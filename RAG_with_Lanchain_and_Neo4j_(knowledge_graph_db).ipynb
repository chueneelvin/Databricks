{
  "nbformat": 4,
  "nbformat_minor": 0,
  "metadata": {
    "colab": {
      "provenance": [],
      "gpuType": "T4",
      "authorship_tag": "ABX9TyPWW9pZE+bSH0tTifgdJvip",
      "include_colab_link": true
    },
    "kernelspec": {
      "name": "python3",
      "display_name": "Python 3"
    },
    "language_info": {
      "name": "python"
    },
    "accelerator": "GPU",
    "widgets": {
      "application/vnd.jupyter.widget-state+json": {
        "5a02ae52f3fd433c8af0a87664a8f66f": {
          "model_module": "yfiles-jupyter-graphs",
          "model_name": "GraphModel",
          "model_module_version": "^1.8.1",
          "state": {
            "_context_pane_mapping": [
              {
                "id": "Neighborhood",
                "title": "Neighborhood"
              },
              {
                "id": "Data",
                "title": "Data"
              },
              {
                "id": "Search",
                "title": "Search"
              },
              {
                "id": "About",
                "title": "About"
              }
            ],
            "_data_importer": "neo4j",
            "_directed": true,
            "_dom_classes": [],
            "_edges": [
              {
                "id": 1152921504606847000,
                "start": 0,
                "end": 53,
                "properties": {
                  "label": "IN_REGION"
                },
                "label": "IN_REGION",
                "color": "#F44336",
                "thickness_factor": 1,
                "directed": true
              },
              {
                "id": 1152921504606847000,
                "start": 1,
                "end": 53,
                "properties": {
                  "label": "IN_REGION"
                },
                "label": "IN_REGION",
                "color": "#F44336",
                "thickness_factor": 1,
                "directed": true
              },
              {
                "id": 1152921504606847000,
                "start": 2,
                "end": 53,
                "properties": {
                  "label": "IN_REGION"
                },
                "label": "IN_REGION",
                "color": "#F44336",
                "thickness_factor": 1,
                "directed": true
              },
              {
                "id": 1152921504606847000,
                "start": 3,
                "end": 53,
                "properties": {
                  "label": "IN_REGION"
                },
                "label": "IN_REGION",
                "color": "#F44336",
                "thickness_factor": 1,
                "directed": true
              },
              {
                "id": 1152921504606847000,
                "start": 4,
                "end": 53,
                "properties": {
                  "label": "IN_REGION"
                },
                "label": "IN_REGION",
                "color": "#F44336",
                "thickness_factor": 1,
                "directed": true
              },
              {
                "id": 1152921504606847000,
                "start": 5,
                "end": 53,
                "properties": {
                  "label": "IN_REGION"
                },
                "label": "IN_REGION",
                "color": "#F44336",
                "thickness_factor": 1,
                "directed": true
              },
              {
                "id": 1152921504606847000,
                "start": 6,
                "end": 53,
                "properties": {
                  "label": "IN_REGION"
                },
                "label": "IN_REGION",
                "color": "#F44336",
                "thickness_factor": 1,
                "directed": true
              },
              {
                "id": 1152921504606847000,
                "start": 7,
                "end": 55,
                "properties": {
                  "label": "IN_REGION"
                },
                "label": "IN_REGION",
                "color": "#F44336",
                "thickness_factor": 1,
                "directed": true
              },
              {
                "id": 1152921504606847000,
                "start": 8,
                "end": 55,
                "properties": {
                  "label": "IN_REGION"
                },
                "label": "IN_REGION",
                "color": "#F44336",
                "thickness_factor": 1,
                "directed": true
              },
              {
                "id": 1152921504606847000,
                "start": 9,
                "end": 53,
                "properties": {
                  "label": "IN_REGION"
                },
                "label": "IN_REGION",
                "color": "#F44336",
                "thickness_factor": 1,
                "directed": true
              },
              {
                "id": 1152921504606847000,
                "start": 10,
                "end": 53,
                "properties": {
                  "label": "IN_REGION"
                },
                "label": "IN_REGION",
                "color": "#F44336",
                "thickness_factor": 1,
                "directed": true
              },
              {
                "id": 1152921504606847000,
                "start": 11,
                "end": 53,
                "properties": {
                  "label": "IN_REGION"
                },
                "label": "IN_REGION",
                "color": "#F44336",
                "thickness_factor": 1,
                "directed": true
              },
              {
                "id": 1152921504606847000,
                "start": 12,
                "end": 53,
                "properties": {
                  "label": "IN_REGION"
                },
                "label": "IN_REGION",
                "color": "#F44336",
                "thickness_factor": 1,
                "directed": true
              },
              {
                "id": 1152921504606847000,
                "start": 13,
                "end": 53,
                "properties": {
                  "label": "IN_REGION"
                },
                "label": "IN_REGION",
                "color": "#F44336",
                "thickness_factor": 1,
                "directed": true
              },
              {
                "id": 1152921504606847000,
                "start": 14,
                "end": 53,
                "properties": {
                  "label": "IN_REGION"
                },
                "label": "IN_REGION",
                "color": "#F44336",
                "thickness_factor": 1,
                "directed": true
              },
              {
                "id": 1152921504606847000,
                "start": 15,
                "end": 53,
                "properties": {
                  "label": "IN_REGION"
                },
                "label": "IN_REGION",
                "color": "#F44336",
                "thickness_factor": 1,
                "directed": true
              },
              {
                "id": 1152921504606847000,
                "start": 16,
                "end": 55,
                "properties": {
                  "label": "IN_REGION"
                },
                "label": "IN_REGION",
                "color": "#F44336",
                "thickness_factor": 1,
                "directed": true
              },
              {
                "id": 1152921504606847000,
                "start": 17,
                "end": 53,
                "properties": {
                  "label": "IN_REGION"
                },
                "label": "IN_REGION",
                "color": "#F44336",
                "thickness_factor": 1,
                "directed": true
              },
              {
                "id": 1152921504606847000,
                "start": 18,
                "end": 53,
                "properties": {
                  "label": "IN_REGION"
                },
                "label": "IN_REGION",
                "color": "#F44336",
                "thickness_factor": 1,
                "directed": true
              },
              {
                "id": 1152921504606847000,
                "start": 19,
                "end": 53,
                "properties": {
                  "label": "IN_REGION"
                },
                "label": "IN_REGION",
                "color": "#F44336",
                "thickness_factor": 1,
                "directed": true
              },
              {
                "id": 1152921504606847000,
                "start": 20,
                "end": 53,
                "properties": {
                  "label": "IN_REGION"
                },
                "label": "IN_REGION",
                "color": "#F44336",
                "thickness_factor": 1,
                "directed": true
              },
              {
                "id": 1152921504606847000,
                "start": 21,
                "end": 56,
                "properties": {
                  "label": "IN_REGION"
                },
                "label": "IN_REGION",
                "color": "#F44336",
                "thickness_factor": 1,
                "directed": true
              },
              {
                "id": 1152921504606847000,
                "start": 22,
                "end": 56,
                "properties": {
                  "label": "IN_REGION"
                },
                "label": "IN_REGION",
                "color": "#F44336",
                "thickness_factor": 1,
                "directed": true
              },
              {
                "id": 1152921504606847000,
                "start": 23,
                "end": 56,
                "properties": {
                  "label": "IN_REGION"
                },
                "label": "IN_REGION",
                "color": "#F44336",
                "thickness_factor": 1,
                "directed": true
              },
              {
                "id": 1152921504606847000,
                "start": 24,
                "end": 56,
                "properties": {
                  "label": "IN_REGION"
                },
                "label": "IN_REGION",
                "color": "#F44336",
                "thickness_factor": 1,
                "directed": true
              },
              {
                "id": 1152921504606847000,
                "start": 25,
                "end": 56,
                "properties": {
                  "label": "IN_REGION"
                },
                "label": "IN_REGION",
                "color": "#F44336",
                "thickness_factor": 1,
                "directed": true
              },
              {
                "id": 1152921504606847000,
                "start": 26,
                "end": 53,
                "properties": {
                  "label": "IN_REGION"
                },
                "label": "IN_REGION",
                "color": "#F44336",
                "thickness_factor": 1,
                "directed": true
              },
              {
                "id": 1152921504606847000,
                "start": 27,
                "end": 55,
                "properties": {
                  "label": "IN_REGION"
                },
                "label": "IN_REGION",
                "color": "#F44336",
                "thickness_factor": 1,
                "directed": true
              },
              {
                "id": 1152921504606847000,
                "start": 28,
                "end": 55,
                "properties": {
                  "label": "IN_REGION"
                },
                "label": "IN_REGION",
                "color": "#F44336",
                "thickness_factor": 1,
                "directed": true
              },
              {
                "id": 1152921504606847000,
                "start": 29,
                "end": 55,
                "properties": {
                  "label": "IN_REGION"
                },
                "label": "IN_REGION",
                "color": "#F44336",
                "thickness_factor": 1,
                "directed": true
              },
              {
                "id": 1152921504606847000,
                "start": 30,
                "end": 55,
                "properties": {
                  "label": "IN_REGION"
                },
                "label": "IN_REGION",
                "color": "#F44336",
                "thickness_factor": 1,
                "directed": true
              },
              {
                "id": 1152921504606847000,
                "start": 31,
                "end": 55,
                "properties": {
                  "label": "IN_REGION"
                },
                "label": "IN_REGION",
                "color": "#F44336",
                "thickness_factor": 1,
                "directed": true
              },
              {
                "id": 1152921504606847000,
                "start": 32,
                "end": 55,
                "properties": {
                  "label": "IN_REGION"
                },
                "label": "IN_REGION",
                "color": "#F44336",
                "thickness_factor": 1,
                "directed": true
              },
              {
                "id": 1152921504606847000,
                "start": 33,
                "end": 55,
                "properties": {
                  "label": "IN_REGION"
                },
                "label": "IN_REGION",
                "color": "#F44336",
                "thickness_factor": 1,
                "directed": true
              },
              {
                "id": 1152921504606847000,
                "start": 34,
                "end": 55,
                "properties": {
                  "label": "IN_REGION"
                },
                "label": "IN_REGION",
                "color": "#F44336",
                "thickness_factor": 1,
                "directed": true
              },
              {
                "id": 1152921504606847000,
                "start": 35,
                "end": 54,
                "properties": {
                  "label": "IN_REGION"
                },
                "label": "IN_REGION",
                "color": "#F44336",
                "thickness_factor": 1,
                "directed": true
              },
              {
                "id": 1152921504606847000,
                "start": 36,
                "end": 54,
                "properties": {
                  "label": "IN_REGION"
                },
                "label": "IN_REGION",
                "color": "#F44336",
                "thickness_factor": 1,
                "directed": true
              },
              {
                "id": 1152921504606847000,
                "start": 37,
                "end": 56,
                "properties": {
                  "label": "IN_REGION"
                },
                "label": "IN_REGION",
                "color": "#F44336",
                "thickness_factor": 1,
                "directed": true
              },
              {
                "id": 1152921504606847000,
                "start": 38,
                "end": 56,
                "properties": {
                  "label": "IN_REGION"
                },
                "label": "IN_REGION",
                "color": "#F44336",
                "thickness_factor": 1,
                "directed": true
              },
              {
                "id": 1152921504606847000,
                "start": 39,
                "end": 56,
                "properties": {
                  "label": "IN_REGION"
                },
                "label": "IN_REGION",
                "color": "#F44336",
                "thickness_factor": 1,
                "directed": true
              },
              {
                "id": 1152921504606847000,
                "start": 40,
                "end": 54,
                "properties": {
                  "label": "IN_REGION"
                },
                "label": "IN_REGION",
                "color": "#F44336",
                "thickness_factor": 1,
                "directed": true
              },
              {
                "id": 1152921504606847000,
                "start": 41,
                "end": 54,
                "properties": {
                  "label": "IN_REGION"
                },
                "label": "IN_REGION",
                "color": "#F44336",
                "thickness_factor": 1,
                "directed": true
              },
              {
                "id": 1152921504606847000,
                "start": 42,
                "end": 54,
                "properties": {
                  "label": "IN_REGION"
                },
                "label": "IN_REGION",
                "color": "#F44336",
                "thickness_factor": 1,
                "directed": true
              },
              {
                "id": 1152921504606847000,
                "start": 43,
                "end": 54,
                "properties": {
                  "label": "IN_REGION"
                },
                "label": "IN_REGION",
                "color": "#F44336",
                "thickness_factor": 1,
                "directed": true
              },
              {
                "id": 1152921504606847000,
                "start": 44,
                "end": 54,
                "properties": {
                  "label": "IN_REGION"
                },
                "label": "IN_REGION",
                "color": "#F44336",
                "thickness_factor": 1,
                "directed": true
              },
              {
                "id": 1152921504606847000,
                "start": 45,
                "end": 54,
                "properties": {
                  "label": "IN_REGION"
                },
                "label": "IN_REGION",
                "color": "#F44336",
                "thickness_factor": 1,
                "directed": true
              },
              {
                "id": 1152921504606847000,
                "start": 46,
                "end": 54,
                "properties": {
                  "label": "IN_REGION"
                },
                "label": "IN_REGION",
                "color": "#F44336",
                "thickness_factor": 1,
                "directed": true
              },
              {
                "id": 1152921504606847000,
                "start": 47,
                "end": 54,
                "properties": {
                  "label": "IN_REGION"
                },
                "label": "IN_REGION",
                "color": "#F44336",
                "thickness_factor": 1,
                "directed": true
              },
              {
                "id": 1152921504606847000,
                "start": 48,
                "end": 54,
                "properties": {
                  "label": "IN_REGION"
                },
                "label": "IN_REGION",
                "color": "#F44336",
                "thickness_factor": 1,
                "directed": true
              },
              {
                "id": 1152921504606847000,
                "start": 49,
                "end": 54,
                "properties": {
                  "label": "IN_REGION"
                },
                "label": "IN_REGION",
                "color": "#F44336",
                "thickness_factor": 1,
                "directed": true
              }
            ],
            "_graph_layout": {},
            "_highlight": [],
            "_license": {},
            "_model_module": "yfiles-jupyter-graphs",
            "_model_module_version": "^1.8.1",
            "_model_name": "GraphModel",
            "_neighborhood": {},
            "_nodes": [
              {
                "id": 0,
                "properties": {
                  "territoryDescription": "Westboro",
                  "territoryID": "01581",
                  "label": "Territory"
                },
                "color": "#2196F3",
                "styles": {},
                "label": "0",
                "scale_factor": 1,
                "type": "#2196F3",
                "size": [
                  55,
                  55
                ],
                "position": [
                  0,
                  0
                ]
              },
              {
                "id": 53,
                "properties": {
                  "regionID": "1",
                  "regionDescription": "Eastern",
                  "label": "Region"
                },
                "color": "#4CAF50",
                "styles": {},
                "label": "53",
                "scale_factor": 1,
                "type": "#4CAF50",
                "size": [
                  55,
                  55
                ],
                "position": [
                  0,
                  0
                ]
              },
              {
                "id": 1,
                "properties": {
                  "territoryDescription": "Bedford",
                  "territoryID": "01730",
                  "label": "Territory"
                },
                "color": "#2196F3",
                "styles": {},
                "label": "1",
                "scale_factor": 1,
                "type": "#2196F3",
                "size": [
                  55,
                  55
                ],
                "position": [
                  0,
                  0
                ]
              },
              {
                "id": 2,
                "properties": {
                  "territoryDescription": "Georgetow",
                  "territoryID": "01833",
                  "label": "Territory"
                },
                "color": "#2196F3",
                "styles": {},
                "label": "2",
                "scale_factor": 1,
                "type": "#2196F3",
                "size": [
                  55,
                  55
                ],
                "position": [
                  0,
                  0
                ]
              },
              {
                "id": 3,
                "properties": {
                  "territoryDescription": "Boston",
                  "territoryID": "02116",
                  "label": "Territory"
                },
                "color": "#2196F3",
                "styles": {},
                "label": "3",
                "scale_factor": 1,
                "type": "#2196F3",
                "size": [
                  55,
                  55
                ],
                "position": [
                  0,
                  0
                ]
              },
              {
                "id": 4,
                "properties": {
                  "territoryDescription": "Cambridge",
                  "territoryID": "02139",
                  "label": "Territory"
                },
                "color": "#2196F3",
                "styles": {},
                "label": "4",
                "scale_factor": 1,
                "type": "#2196F3",
                "size": [
                  55,
                  55
                ],
                "position": [
                  0,
                  0
                ]
              },
              {
                "id": 5,
                "properties": {
                  "territoryDescription": "Braintree",
                  "territoryID": "02184",
                  "label": "Territory"
                },
                "color": "#2196F3",
                "styles": {},
                "label": "5",
                "scale_factor": 1,
                "type": "#2196F3",
                "size": [
                  55,
                  55
                ],
                "position": [
                  0,
                  0
                ]
              },
              {
                "id": 6,
                "properties": {
                  "territoryDescription": "Providence",
                  "territoryID": "02903",
                  "label": "Territory"
                },
                "color": "#2196F3",
                "styles": {},
                "label": "6",
                "scale_factor": 1,
                "type": "#2196F3",
                "size": [
                  55,
                  55
                ],
                "position": [
                  0,
                  0
                ]
              },
              {
                "id": 7,
                "properties": {
                  "territoryDescription": "Hollis",
                  "territoryID": "03049",
                  "label": "Territory"
                },
                "color": "#2196F3",
                "styles": {},
                "label": "7",
                "scale_factor": 1,
                "type": "#2196F3",
                "size": [
                  55,
                  55
                ],
                "position": [
                  0,
                  0
                ]
              },
              {
                "id": 55,
                "properties": {
                  "regionID": "3",
                  "regionDescription": "Northern",
                  "label": "Region"
                },
                "color": "#4CAF50",
                "styles": {},
                "label": "55",
                "scale_factor": 1,
                "type": "#4CAF50",
                "size": [
                  55,
                  55
                ],
                "position": [
                  0,
                  0
                ]
              },
              {
                "id": 8,
                "properties": {
                  "territoryDescription": "Portsmouth",
                  "territoryID": "03801",
                  "label": "Territory"
                },
                "color": "#2196F3",
                "styles": {},
                "label": "8",
                "scale_factor": 1,
                "type": "#2196F3",
                "size": [
                  55,
                  55
                ],
                "position": [
                  0,
                  0
                ]
              },
              {
                "id": 9,
                "properties": {
                  "territoryDescription": "Wilton",
                  "territoryID": "06897",
                  "label": "Territory"
                },
                "color": "#2196F3",
                "styles": {},
                "label": "9",
                "scale_factor": 1,
                "type": "#2196F3",
                "size": [
                  55,
                  55
                ],
                "position": [
                  0,
                  0
                ]
              },
              {
                "id": 10,
                "properties": {
                  "territoryDescription": "Morristown",
                  "territoryID": "07960",
                  "label": "Territory"
                },
                "color": "#2196F3",
                "styles": {},
                "label": "10",
                "scale_factor": 1,
                "type": "#2196F3",
                "size": [
                  55,
                  55
                ],
                "position": [
                  0,
                  0
                ]
              },
              {
                "id": 11,
                "properties": {
                  "territoryDescription": "Edison",
                  "territoryID": "08837",
                  "label": "Territory"
                },
                "color": "#2196F3",
                "styles": {},
                "label": "11",
                "scale_factor": 1,
                "type": "#2196F3",
                "size": [
                  55,
                  55
                ],
                "position": [
                  0,
                  0
                ]
              },
              {
                "id": 12,
                "properties": {
                  "territoryDescription": "NewYork",
                  "territoryID": "10019",
                  "label": "Territory"
                },
                "color": "#2196F3",
                "styles": {},
                "label": "12",
                "scale_factor": 1,
                "type": "#2196F3",
                "size": [
                  55,
                  55
                ],
                "position": [
                  0,
                  0
                ]
              },
              {
                "id": 13,
                "properties": {
                  "territoryDescription": "NewYork",
                  "territoryID": "10038",
                  "label": "Territory"
                },
                "color": "#2196F3",
                "styles": {},
                "label": "13",
                "scale_factor": 1,
                "type": "#2196F3",
                "size": [
                  55,
                  55
                ],
                "position": [
                  0,
                  0
                ]
              },
              {
                "id": 14,
                "properties": {
                  "territoryDescription": "Mellvile",
                  "territoryID": "11747",
                  "label": "Territory"
                },
                "color": "#2196F3",
                "styles": {},
                "label": "14",
                "scale_factor": 1,
                "type": "#2196F3",
                "size": [
                  55,
                  55
                ],
                "position": [
                  0,
                  0
                ]
              },
              {
                "id": 15,
                "properties": {
                  "territoryDescription": "Fairport",
                  "territoryID": "14450",
                  "label": "Territory"
                },
                "color": "#2196F3",
                "styles": {},
                "label": "15",
                "scale_factor": 1,
                "type": "#2196F3",
                "size": [
                  55,
                  55
                ],
                "position": [
                  0,
                  0
                ]
              },
              {
                "id": 16,
                "properties": {
                  "territoryDescription": "Philadelphia",
                  "territoryID": "19428",
                  "label": "Territory"
                },
                "color": "#2196F3",
                "styles": {},
                "label": "16",
                "scale_factor": 1,
                "type": "#2196F3",
                "size": [
                  55,
                  55
                ],
                "position": [
                  0,
                  0
                ]
              },
              {
                "id": 17,
                "properties": {
                  "territoryDescription": "Neward",
                  "territoryID": "19713",
                  "label": "Territory"
                },
                "color": "#2196F3",
                "styles": {},
                "label": "17",
                "scale_factor": 1,
                "type": "#2196F3",
                "size": [
                  55,
                  55
                ],
                "position": [
                  0,
                  0
                ]
              },
              {
                "id": 18,
                "properties": {
                  "territoryDescription": "Rockville",
                  "territoryID": "20852",
                  "label": "Territory"
                },
                "color": "#2196F3",
                "styles": {},
                "label": "18",
                "scale_factor": 1,
                "type": "#2196F3",
                "size": [
                  55,
                  55
                ],
                "position": [
                  0,
                  0
                ]
              },
              {
                "id": 19,
                "properties": {
                  "territoryDescription": "Greensboro",
                  "territoryID": "27403",
                  "label": "Territory"
                },
                "color": "#2196F3",
                "styles": {},
                "label": "19",
                "scale_factor": 1,
                "type": "#2196F3",
                "size": [
                  55,
                  55
                ],
                "position": [
                  0,
                  0
                ]
              },
              {
                "id": 20,
                "properties": {
                  "territoryDescription": "Cary",
                  "territoryID": "27511",
                  "label": "Territory"
                },
                "color": "#2196F3",
                "styles": {},
                "label": "20",
                "scale_factor": 1,
                "type": "#2196F3",
                "size": [
                  55,
                  55
                ],
                "position": [
                  0,
                  0
                ]
              },
              {
                "id": 21,
                "properties": {
                  "territoryDescription": "Columbia",
                  "territoryID": "29202",
                  "label": "Territory"
                },
                "color": "#2196F3",
                "styles": {},
                "label": "21",
                "scale_factor": 1,
                "type": "#2196F3",
                "size": [
                  55,
                  55
                ],
                "position": [
                  0,
                  0
                ]
              },
              {
                "id": 56,
                "properties": {
                  "regionID": "4",
                  "regionDescription": "Southern",
                  "label": "Region"
                },
                "color": "#4CAF50",
                "styles": {},
                "label": "56",
                "scale_factor": 1,
                "type": "#4CAF50",
                "size": [
                  55,
                  55
                ],
                "position": [
                  0,
                  0
                ]
              },
              {
                "id": 22,
                "properties": {
                  "territoryDescription": "Atlanta",
                  "territoryID": "30346",
                  "label": "Territory"
                },
                "color": "#2196F3",
                "styles": {},
                "label": "22",
                "scale_factor": 1,
                "type": "#2196F3",
                "size": [
                  55,
                  55
                ],
                "position": [
                  0,
                  0
                ]
              },
              {
                "id": 23,
                "properties": {
                  "territoryDescription": "Savannah",
                  "territoryID": "31406",
                  "label": "Territory"
                },
                "color": "#2196F3",
                "styles": {},
                "label": "23",
                "scale_factor": 1,
                "type": "#2196F3",
                "size": [
                  55,
                  55
                ],
                "position": [
                  0,
                  0
                ]
              },
              {
                "id": 24,
                "properties": {
                  "territoryDescription": "Orlando",
                  "territoryID": "32859",
                  "label": "Territory"
                },
                "color": "#2196F3",
                "styles": {},
                "label": "24",
                "scale_factor": 1,
                "type": "#2196F3",
                "size": [
                  55,
                  55
                ],
                "position": [
                  0,
                  0
                ]
              },
              {
                "id": 25,
                "properties": {
                  "territoryDescription": "Tampa",
                  "territoryID": "33607",
                  "label": "Territory"
                },
                "color": "#2196F3",
                "styles": {},
                "label": "25",
                "scale_factor": 1,
                "type": "#2196F3",
                "size": [
                  55,
                  55
                ],
                "position": [
                  0,
                  0
                ]
              },
              {
                "id": 26,
                "properties": {
                  "territoryDescription": "Louisville",
                  "territoryID": "40222",
                  "label": "Territory"
                },
                "color": "#2196F3",
                "styles": {},
                "label": "26",
                "scale_factor": 1,
                "type": "#2196F3",
                "size": [
                  55,
                  55
                ],
                "position": [
                  0,
                  0
                ]
              },
              {
                "id": 27,
                "properties": {
                  "territoryDescription": "Beachwood",
                  "territoryID": "44122",
                  "label": "Territory"
                },
                "color": "#2196F3",
                "styles": {},
                "label": "27",
                "scale_factor": 1,
                "type": "#2196F3",
                "size": [
                  55,
                  55
                ],
                "position": [
                  0,
                  0
                ]
              },
              {
                "id": 28,
                "properties": {
                  "territoryDescription": "Findlay",
                  "territoryID": "45839",
                  "label": "Territory"
                },
                "color": "#2196F3",
                "styles": {},
                "label": "28",
                "scale_factor": 1,
                "type": "#2196F3",
                "size": [
                  55,
                  55
                ],
                "position": [
                  0,
                  0
                ]
              },
              {
                "id": 29,
                "properties": {
                  "territoryDescription": "Southfield",
                  "territoryID": "48075",
                  "label": "Territory"
                },
                "color": "#2196F3",
                "styles": {},
                "label": "29",
                "scale_factor": 1,
                "type": "#2196F3",
                "size": [
                  55,
                  55
                ],
                "position": [
                  0,
                  0
                ]
              },
              {
                "id": 30,
                "properties": {
                  "territoryDescription": "Troy",
                  "territoryID": "48084",
                  "label": "Territory"
                },
                "color": "#2196F3",
                "styles": {},
                "label": "30",
                "scale_factor": 1,
                "type": "#2196F3",
                "size": [
                  55,
                  55
                ],
                "position": [
                  0,
                  0
                ]
              },
              {
                "id": 31,
                "properties": {
                  "territoryDescription": "BloomfieldHills",
                  "territoryID": "48304",
                  "label": "Territory"
                },
                "color": "#2196F3",
                "styles": {},
                "label": "31",
                "scale_factor": 1,
                "type": "#2196F3",
                "size": [
                  55,
                  55
                ],
                "position": [
                  0,
                  0
                ]
              },
              {
                "id": 32,
                "properties": {
                  "territoryDescription": "Racine",
                  "territoryID": "53404",
                  "label": "Territory"
                },
                "color": "#2196F3",
                "styles": {},
                "label": "32",
                "scale_factor": 1,
                "type": "#2196F3",
                "size": [
                  55,
                  55
                ],
                "position": [
                  0,
                  0
                ]
              },
              {
                "id": 33,
                "properties": {
                  "territoryDescription": "Roseville",
                  "territoryID": "55113",
                  "label": "Territory"
                },
                "color": "#2196F3",
                "styles": {},
                "label": "33",
                "scale_factor": 1,
                "type": "#2196F3",
                "size": [
                  55,
                  55
                ],
                "position": [
                  0,
                  0
                ]
              },
              {
                "id": 34,
                "properties": {
                  "territoryDescription": "Minneapolis",
                  "territoryID": "55439",
                  "label": "Territory"
                },
                "color": "#2196F3",
                "styles": {},
                "label": "34",
                "scale_factor": 1,
                "type": "#2196F3",
                "size": [
                  55,
                  55
                ],
                "position": [
                  0,
                  0
                ]
              },
              {
                "id": 35,
                "properties": {
                  "territoryDescription": "HoffmanEstates",
                  "territoryID": "60179",
                  "label": "Territory"
                },
                "color": "#2196F3",
                "styles": {},
                "label": "35",
                "scale_factor": 1,
                "type": "#2196F3",
                "size": [
                  55,
                  55
                ],
                "position": [
                  0,
                  0
                ]
              },
              {
                "id": 54,
                "properties": {
                  "regionID": "2",
                  "regionDescription": "Western",
                  "label": "Region"
                },
                "color": "#4CAF50",
                "styles": {},
                "label": "54",
                "scale_factor": 1,
                "type": "#4CAF50",
                "size": [
                  55,
                  55
                ],
                "position": [
                  0,
                  0
                ]
              },
              {
                "id": 36,
                "properties": {
                  "territoryDescription": "Chicago",
                  "territoryID": "60601",
                  "label": "Territory"
                },
                "color": "#2196F3",
                "styles": {},
                "label": "36",
                "scale_factor": 1,
                "type": "#2196F3",
                "size": [
                  55,
                  55
                ],
                "position": [
                  0,
                  0
                ]
              },
              {
                "id": 37,
                "properties": {
                  "territoryDescription": "Bentonville",
                  "territoryID": "72716",
                  "label": "Territory"
                },
                "color": "#2196F3",
                "styles": {},
                "label": "37",
                "scale_factor": 1,
                "type": "#2196F3",
                "size": [
                  55,
                  55
                ],
                "position": [
                  0,
                  0
                ]
              },
              {
                "id": 38,
                "properties": {
                  "territoryDescription": "Dallas",
                  "territoryID": "75234",
                  "label": "Territory"
                },
                "color": "#2196F3",
                "styles": {},
                "label": "38",
                "scale_factor": 1,
                "type": "#2196F3",
                "size": [
                  55,
                  55
                ],
                "position": [
                  0,
                  0
                ]
              },
              {
                "id": 39,
                "properties": {
                  "territoryDescription": "Austin",
                  "territoryID": "78759",
                  "label": "Territory"
                },
                "color": "#2196F3",
                "styles": {},
                "label": "39",
                "scale_factor": 1,
                "type": "#2196F3",
                "size": [
                  55,
                  55
                ],
                "position": [
                  0,
                  0
                ]
              },
              {
                "id": 40,
                "properties": {
                  "territoryDescription": "Denver",
                  "territoryID": "80202",
                  "label": "Territory"
                },
                "color": "#2196F3",
                "styles": {},
                "label": "40",
                "scale_factor": 1,
                "type": "#2196F3",
                "size": [
                  55,
                  55
                ],
                "position": [
                  0,
                  0
                ]
              },
              {
                "id": 41,
                "properties": {
                  "territoryDescription": "ColoradoSprings",
                  "territoryID": "80909",
                  "label": "Territory"
                },
                "color": "#2196F3",
                "styles": {},
                "label": "41",
                "scale_factor": 1,
                "type": "#2196F3",
                "size": [
                  55,
                  55
                ],
                "position": [
                  0,
                  0
                ]
              },
              {
                "id": 42,
                "properties": {
                  "territoryDescription": "Phoenix",
                  "territoryID": "85014",
                  "label": "Territory"
                },
                "color": "#2196F3",
                "styles": {},
                "label": "42",
                "scale_factor": 1,
                "type": "#2196F3",
                "size": [
                  55,
                  55
                ],
                "position": [
                  0,
                  0
                ]
              },
              {
                "id": 43,
                "properties": {
                  "territoryDescription": "Scottsdale",
                  "territoryID": "85251",
                  "label": "Territory"
                },
                "color": "#2196F3",
                "styles": {},
                "label": "43",
                "scale_factor": 1,
                "type": "#2196F3",
                "size": [
                  55,
                  55
                ],
                "position": [
                  0,
                  0
                ]
              },
              {
                "id": 44,
                "properties": {
                  "territoryDescription": "SantaMonica",
                  "territoryID": "90405",
                  "label": "Territory"
                },
                "color": "#2196F3",
                "styles": {},
                "label": "44",
                "scale_factor": 1,
                "type": "#2196F3",
                "size": [
                  55,
                  55
                ],
                "position": [
                  0,
                  0
                ]
              },
              {
                "id": 45,
                "properties": {
                  "territoryDescription": "MenloPark",
                  "territoryID": "94025",
                  "label": "Territory"
                },
                "color": "#2196F3",
                "styles": {},
                "label": "45",
                "scale_factor": 1,
                "type": "#2196F3",
                "size": [
                  55,
                  55
                ],
                "position": [
                  0,
                  0
                ]
              },
              {
                "id": 46,
                "properties": {
                  "territoryDescription": "SanFrancisco",
                  "territoryID": "94105",
                  "label": "Territory"
                },
                "color": "#2196F3",
                "styles": {},
                "label": "46",
                "scale_factor": 1,
                "type": "#2196F3",
                "size": [
                  55,
                  55
                ],
                "position": [
                  0,
                  0
                ]
              },
              {
                "id": 47,
                "properties": {
                  "territoryDescription": "Campbell",
                  "territoryID": "95008",
                  "label": "Territory"
                },
                "color": "#2196F3",
                "styles": {},
                "label": "47",
                "scale_factor": 1,
                "type": "#2196F3",
                "size": [
                  55,
                  55
                ],
                "position": [
                  0,
                  0
                ]
              },
              {
                "id": 48,
                "properties": {
                  "territoryDescription": "SantaClara",
                  "territoryID": "95054",
                  "label": "Territory"
                },
                "color": "#2196F3",
                "styles": {},
                "label": "48",
                "scale_factor": 1,
                "type": "#2196F3",
                "size": [
                  55,
                  55
                ],
                "position": [
                  0,
                  0
                ]
              },
              {
                "id": 49,
                "properties": {
                  "territoryDescription": "SantaCruz",
                  "territoryID": "95060",
                  "label": "Territory"
                },
                "color": "#2196F3",
                "styles": {},
                "label": "49",
                "scale_factor": 1,
                "type": "#2196F3",
                "size": [
                  55,
                  55
                ],
                "position": [
                  0,
                  0
                ]
              }
            ],
            "_overview": {
              "enabled": null,
              "overview_set": false
            },
            "_selected_graph": [
              [],
              [
                {
                  "id": 1152921504606847000,
                  "start": 35,
                  "end": 54,
                  "properties": {
                    "label": "IN_REGION"
                  }
                }
              ]
            ],
            "_sidebar": {
              "enabled": false,
              "start_with": null
            },
            "_view_count": null,
            "_view_module": "yfiles-jupyter-graphs",
            "_view_module_version": "^1.8.1",
            "_view_name": "GraphView",
            "layout": "IPY_MODEL_1fdf4a1f418948a2be0fe053f4b95aef",
            "tabbable": null,
            "tooltip": null
          }
        },
        "1fdf4a1f418948a2be0fe053f4b95aef": {
          "model_module": "@jupyter-widgets/base",
          "model_name": "LayoutModel",
          "model_module_version": "2.0.0",
          "state": {
            "_model_module": "@jupyter-widgets/base",
            "_model_module_version": "2.0.0",
            "_model_name": "LayoutModel",
            "_view_count": null,
            "_view_module": "@jupyter-widgets/base",
            "_view_module_version": "2.0.0",
            "_view_name": "LayoutView",
            "align_content": null,
            "align_items": null,
            "align_self": null,
            "border_bottom": null,
            "border_left": null,
            "border_right": null,
            "border_top": null,
            "bottom": null,
            "display": null,
            "flex": null,
            "flex_flow": null,
            "grid_area": null,
            "grid_auto_columns": null,
            "grid_auto_flow": null,
            "grid_auto_rows": null,
            "grid_column": null,
            "grid_gap": null,
            "grid_row": null,
            "grid_template_areas": null,
            "grid_template_columns": null,
            "grid_template_rows": null,
            "height": "800px",
            "justify_content": null,
            "justify_items": null,
            "left": null,
            "margin": null,
            "max_height": null,
            "max_width": null,
            "min_height": null,
            "min_width": null,
            "object_fit": null,
            "object_position": null,
            "order": null,
            "overflow": null,
            "padding": null,
            "right": null,
            "top": null,
            "visibility": null,
            "width": "100%"
          }
        },
        "6a7537b7f4044007a854573ffe32ab83": {
          "model_module": "@jupyter-widgets/base",
          "model_name": "LayoutModel",
          "model_module_version": "2.0.0",
          "state": {
            "_model_module": "@jupyter-widgets/base",
            "_model_module_version": "2.0.0",
            "_model_name": "LayoutModel",
            "_view_count": null,
            "_view_module": "@jupyter-widgets/base",
            "_view_module_version": "2.0.0",
            "_view_name": "LayoutView",
            "align_content": null,
            "align_items": null,
            "align_self": null,
            "border_bottom": null,
            "border_left": null,
            "border_right": null,
            "border_top": null,
            "bottom": null,
            "display": null,
            "flex": null,
            "flex_flow": null,
            "grid_area": null,
            "grid_auto_columns": null,
            "grid_auto_flow": null,
            "grid_auto_rows": null,
            "grid_column": null,
            "grid_gap": null,
            "grid_row": null,
            "grid_template_areas": null,
            "grid_template_columns": null,
            "grid_template_rows": null,
            "height": "800px",
            "justify_content": null,
            "justify_items": null,
            "left": null,
            "margin": null,
            "max_height": null,
            "max_width": null,
            "min_height": null,
            "min_width": null,
            "object_fit": null,
            "object_position": null,
            "order": null,
            "overflow": null,
            "padding": null,
            "right": null,
            "top": null,
            "visibility": null,
            "width": "100%"
          }
        }
      }
    }
  },
  "cells": [
    {
      "cell_type": "markdown",
      "metadata": {
        "id": "view-in-github",
        "colab_type": "text"
      },
      "source": [
        "<a href=\"https://colab.research.google.com/github/chueneelvin/Databricks/blob/main/RAG_with_Lanchain_and_Neo4j_(knowledge_graph_db).ipynb\" target=\"_parent\"><img src=\"https://colab.research.google.com/assets/colab-badge.svg\" alt=\"Open In Colab\"/></a>"
      ]
    },
    {
      "cell_type": "markdown",
      "source": [
        "# Install required libraries"
      ],
      "metadata": {
        "id": "9kDM3DVXyGT8"
      }
    },
    {
      "cell_type": "code",
      "execution_count": 2,
      "metadata": {
        "colab": {
          "base_uri": "https://localhost:8080/"
        },
        "collapsed": true,
        "id": "GIzFg6dRxu3B",
        "outputId": "317b916c-dfad-44d5-9281-4e5b8d22ea0f"
      },
      "outputs": [
        {
          "output_type": "stream",
          "name": "stdout",
          "text": [
            "  Preparing metadata (setup.py) ... \u001b[?25l\u001b[?25hdone\n",
            "\u001b[2K     \u001b[90m━━━━━━━━━━━━━━━━━━━━━━━━━━━━━━━━━━━━━━━━\u001b[0m \u001b[32m50.4/50.4 kB\u001b[0m \u001b[31m4.3 MB/s\u001b[0m eta \u001b[36m0:00:00\u001b[0m\n",
            "\u001b[2K   \u001b[90m━━━━━━━━━━━━━━━━━━━━━━━━━━━━━━━━━━━━━━━━\u001b[0m \u001b[32m1.0/1.0 MB\u001b[0m \u001b[31m47.8 MB/s\u001b[0m eta \u001b[36m0:00:00\u001b[0m\n",
            "\u001b[2K   \u001b[90m━━━━━━━━━━━━━━━━━━━━━━━━━━━━━━━━━━━━━━━━\u001b[0m \u001b[32m2.3/2.3 MB\u001b[0m \u001b[31m85.1 MB/s\u001b[0m eta \u001b[36m0:00:00\u001b[0m\n",
            "\u001b[2K   \u001b[90m━━━━━━━━━━━━━━━━━━━━━━━━━━━━━━━━━━━━━━━━\u001b[0m \u001b[32m52.0/52.0 kB\u001b[0m \u001b[31m4.7 MB/s\u001b[0m eta \u001b[36m0:00:00\u001b[0m\n",
            "\u001b[2K   \u001b[90m━━━━━━━━━━━━━━━━━━━━━━━━━━━━━━━━━━━━━━━━\u001b[0m \u001b[32m207.2/207.2 kB\u001b[0m \u001b[31m19.1 MB/s\u001b[0m eta \u001b[36m0:00:00\u001b[0m\n",
            "\u001b[2K   \u001b[90m━━━━━━━━━━━━━━━━━━━━━━━━━━━━━━━━━━━━━━━━\u001b[0m \u001b[32m294.6/294.6 kB\u001b[0m \u001b[31m25.8 MB/s\u001b[0m eta \u001b[36m0:00:00\u001b[0m\n",
            "\u001b[2K   \u001b[90m━━━━━━━━━━━━━━━━━━━━━━━━━━━━━━━━━━━━━━━━\u001b[0m \u001b[32m1.1/1.1 MB\u001b[0m \u001b[31m62.1 MB/s\u001b[0m eta \u001b[36m0:00:00\u001b[0m\n",
            "\u001b[2K   \u001b[90m━━━━━━━━━━━━━━━━━━━━━━━━━━━━━━━━━━━━━━━━\u001b[0m \u001b[32m15.6/15.6 MB\u001b[0m \u001b[31m65.5 MB/s\u001b[0m eta \u001b[36m0:00:00\u001b[0m\n",
            "\u001b[2K   \u001b[90m━━━━━━━━━━━━━━━━━━━━━━━━━━━━━━━━━━━━━━━━\u001b[0m \u001b[32m139.8/139.8 kB\u001b[0m \u001b[31m13.6 MB/s\u001b[0m eta \u001b[36m0:00:00\u001b[0m\n",
            "\u001b[2K   \u001b[90m━━━━━━━━━━━━━━━━━━━━━━━━━━━━━━━━━━━━━━━━\u001b[0m \u001b[32m396.4/396.4 kB\u001b[0m \u001b[31m33.5 MB/s\u001b[0m eta \u001b[36m0:00:00\u001b[0m\n",
            "\u001b[2K   \u001b[90m━━━━━━━━━━━━━━━━━━━━━━━━━━━━━━━━━━━━━━━━\u001b[0m \u001b[32m288.8/288.8 kB\u001b[0m \u001b[31m23.8 MB/s\u001b[0m eta \u001b[36m0:00:00\u001b[0m\n",
            "\u001b[2K   \u001b[90m━━━━━━━━━━━━━━━━━━━━━━━━━━━━━━━━━━━━━━━━\u001b[0m \u001b[32m365.7/365.7 kB\u001b[0m \u001b[31m31.6 MB/s\u001b[0m eta \u001b[36m0:00:00\u001b[0m\n",
            "\u001b[2K   \u001b[90m━━━━━━━━━━━━━━━━━━━━━━━━━━━━━━━━━━━━━━━━\u001b[0m \u001b[32m76.4/76.4 kB\u001b[0m \u001b[31m7.9 MB/s\u001b[0m eta \u001b[36m0:00:00\u001b[0m\n",
            "\u001b[2K   \u001b[90m━━━━━━━━━━━━━━━━━━━━━━━━━━━━━━━━━━━━━━━━\u001b[0m \u001b[32m77.9/77.9 kB\u001b[0m \u001b[31m7.3 MB/s\u001b[0m eta \u001b[36m0:00:00\u001b[0m\n",
            "\u001b[2K   \u001b[90m━━━━━━━━━━━━━━━━━━━━━━━━━━━━━━━━━━━━━━━━\u001b[0m \u001b[32m318.9/318.9 kB\u001b[0m \u001b[31m28.9 MB/s\u001b[0m eta \u001b[36m0:00:00\u001b[0m\n",
            "\u001b[2K   \u001b[90m━━━━━━━━━━━━━━━━━━━━━━━━━━━━━━━━━━━━━━━━\u001b[0m \u001b[32m49.3/49.3 kB\u001b[0m \u001b[31m4.8 MB/s\u001b[0m eta \u001b[36m0:00:00\u001b[0m\n",
            "\u001b[2K   \u001b[90m━━━━━━━━━━━━━━━━━━━━━━━━━━━━━━━━━━━━━━━━\u001b[0m \u001b[32m141.9/141.9 kB\u001b[0m \u001b[31m14.5 MB/s\u001b[0m eta \u001b[36m0:00:00\u001b[0m\n",
            "\u001b[2K   \u001b[90m━━━━━━━━━━━━━━━━━━━━━━━━━━━━━━━━━━━━━━━━\u001b[0m \u001b[32m2.3/2.3 MB\u001b[0m \u001b[31m76.0 MB/s\u001b[0m eta \u001b[36m0:00:00\u001b[0m\n",
            "\u001b[2K   \u001b[90m━━━━━━━━━━━━━━━━━━━━━━━━━━━━━━━━━━━━━━━━\u001b[0m \u001b[32m58.3/58.3 kB\u001b[0m \u001b[31m5.6 MB/s\u001b[0m eta \u001b[36m0:00:00\u001b[0m\n",
            "\u001b[?25h  Building wheel for wikipedia (setup.py) ... \u001b[?25l\u001b[?25hdone\n"
          ]
        }
      ],
      "source": [
        "!pip install --upgrade --quiet  langchain langchain-community langchain-openai langchain-experimental neo4j wikipedia tiktoken yfiles_jupyter_graphs"
      ]
    },
    {
      "cell_type": "markdown",
      "source": [
        "# Import the required libraries"
      ],
      "metadata": {
        "id": "vLIpJC_vyc2f"
      }
    },
    {
      "cell_type": "code",
      "source": [
        "from langchain_core.runnables import RunnableBranch,RunnableLambda,RunnableParallel,RunnablePassthrough\n",
        "from langchain_core.prompts import ChatPromptTemplate\n",
        "from langchain_core.prompts.prompt import PromptTemplate\n",
        "from typing import Tuple, List, Optional\n",
        "from langchain_core.messages import AIMessage, HumanMessage\n",
        "from langchain_core.output_parsers import StrOutputParser\n",
        "from langchain_core.runnables import ConfigurableField\n",
        "from yfiles_jupyter_graphs import GraphWidget\n",
        "from neo4j import GraphDatabase\n",
        "import os\n",
        "from langchain_community.vectorstores import Neo4jVector\n",
        "from langchain_openai import ChatOpenAI\n",
        "from langchain_community.graphs import Neo4jGraph\n",
        "from langchain.document_loaders import WikipediaLoader\n",
        "from langchain.text_splitter import TokenTextSplitter\n",
        "from langchain_openai import ChatOpenAI\n",
        "from langchain_experimental.graph_transformers import LLMGraphTransformer\n",
        "from yfiles_jupyter_graphs import GraphWidget\n",
        "from neo4j import GraphDatabase"
      ],
      "metadata": {
        "id": "c0jFv3vbygxY"
      },
      "execution_count": 15,
      "outputs": []
    },
    {
      "cell_type": "markdown",
      "source": [
        "# Configure secrets and API keys"
      ],
      "metadata": {
        "id": "ftJoB5WDz5eJ"
      }
    },
    {
      "cell_type": "code",
      "source": [
        "# Get the API key from user data\n",
        "from google.colab import userdata\n",
        "os.environ['OPENAI_API_KEY'] = userdata.get('OPENAI_API_KEY')\n",
        "os.environ[\"OPENAI_API_KEY\"] = userdata.get('OPENAI_API_KEY')\n",
        "os.environ[\"NEO4J_URI\"] = userdata.get('NEO4J_URI')\n",
        "os.environ[\"NEO4J_USERNAME\"] = userdata.get('NEO4J_USERNAME')\n",
        "os.environ[\"NEO4J_PASSWORD\"] = userdata.get('NEO4J_PASSWORD')"
      ],
      "metadata": {
        "id": "1jSQaTOxzTy0"
      },
      "execution_count": 4,
      "outputs": []
    },
    {
      "cell_type": "markdown",
      "source": [
        "#Load the data"
      ],
      "metadata": {
        "id": "PgKzk--o2FHa"
      }
    },
    {
      "cell_type": "code",
      "source": [
        "raw_documents = WikipediaLoader(query=\"Nelson Mandela\").load()\n",
        "raw_documents[22]"
      ],
      "metadata": {
        "colab": {
          "base_uri": "https://localhost:8080/"
        },
        "collapsed": true,
        "id": "RJYxCqqk2Jac",
        "outputId": "de65f9af-c517-431a-a56e-5c6645964bf5"
      },
      "execution_count": 5,
      "outputs": [
        {
          "output_type": "stream",
          "name": "stderr",
          "text": [
            "/usr/local/lib/python3.10/dist-packages/wikipedia/wikipedia.py:389: GuessedAtParserWarning: No parser was explicitly specified, so I'm using the best available HTML parser for this system (\"lxml\"). This usually isn't a problem, but if you run this code on another system, or in a different virtual environment, it may use a different parser and behave differently.\n",
            "\n",
            "The code that caused this warning is on line 389 of the file /usr/local/lib/python3.10/dist-packages/wikipedia/wikipedia.py. To get rid of this warning, pass the additional argument 'features=\"lxml\"' to the BeautifulSoup constructor.\n",
            "\n",
            "  lis = BeautifulSoup(html).find_all('li')\n"
          ]
        },
        {
          "output_type": "execute_result",
          "data": {
            "text/plain": [
              "Document(metadata={'title': 'John Carlin (journalist)', 'summary': 'John Carlin (born 12 May 1956) is a British journalist and author, who deals with both sports and politics. His book Playing the Enemy: Nelson Mandela and the Game that Made a Nation, about former South African president Nelson Mandela, is the basis for the 2009 film Invictus.', 'source': 'https://en.wikipedia.org/wiki/John_Carlin_(journalist)'}, page_content='John Carlin (born 12 May 1956) is a British journalist and author, who deals with both sports and politics. His book Playing the Enemy: Nelson Mandela and the Game that Made a Nation, about former South African president Nelson Mandela, is the basis for the 2009 film Invictus.\\n\\n\\n== Personal life ==\\nCarlin was born to a Scottish father and Spanish mother. He spent the first three years of his life in North London, before moving to Buenos Aires, Argentina, due to his father\\'s posting to the British Embassy.\\nAfter returning to England, he was educated at St. George\\'s College, Weybridge, and went on to earn an MA in English Language and Literature from Oxford University. He has one child.\\n\\n\\n== Career ==\\nCarlin began his journalism career at the Buenos Aires Herald in 1981, writing about film, football and politics. In 1982, he began a six-year stint in Mexico and Central America working for, among others, The Times and Sunday Times, the Toronto Star, BBC, CBC, and ABC News before joining the staff of The Independent at the newspaper\\'s launch in 1986.\\nCarlin was The Independent\\'s South Africa bureau chief from 1989 to 1995. In 1993, Carlin wrote and presented a BBC documentary on the South African Third Force, his first television work.\\nFrom 1995 to 1998 he was the United States bureau chief for The Independent on Sunday.\\nIn 1997, Carlin wrote an article titled \"A Farewell to Arms\" for Wired magazine about cyberwarfare. This was originally intended to form the basis of a 1999 film, WW3.com. When this project stalled, its script was rewritten into the 2007 film, Live Free or Die Hard (Die Hard 4.0).\\nIn 1998, Carlin joined El País, the world\\'s leading Spanish-language newspaper, where he worked as a senior international writer until being sacked in October 2017 after an article highly critical of the Spanish government and King regarding the Catalonian independence referendum. \\n\\nHe has since written regularly for La Vanguardia. He also writes regularly for Argentine newspaper Clarín.\\nCarlin was writer and interviewer for the 1999 episode \"The Long Walk of Nelson Mandela\" of the American PBS series Frontline. It was also broadcast as \"The First Accused\" in South Africa by the SABC.\\n\\n\\n=== Awards ===\\nCarlin won the 2000 Spanish Ortega y Gasset Award for journalism, for an article in Spanish newspaper El País. In 2004 he won the British Press Awards \"Food and Drink Writer of the Year\" prize. He has won numerous other awards for his writing in Spain and Italy.\\n\\n\\n== Nelson Mandela ==\\nMuch of Carlin\\'s career has dealt with the politics of South Africa.\\nIn a 1998 interview, Mandela said of Carlin\\'s journalism: \"What you wrote and the way in which you carried out your task in this country was absolutely magnificent…it was absolutely inspiring. You have been very courageous, saying things which many journalists would never say.\" Mandela wrote the foreword to Carlin\\'s 2004 Spanish language book, Heroica Tierra Cruel, about Africa.\\nIn August 2008, Carlin published the book Playing the Enemy: Nelson Mandela and the Game that Made a Nation, about how Mandela used the 1995 Rugby World Cup to reconcile a nation driven by centuries of racial animosity. The book became the basis for Clint Eastwood\\'s 2009 film, Invictus, starring Morgan Freeman as Mandela.\\nCarlin has written for, among others, The Times, the Financial Times, the New York Times, Wall Street Journal, The Observer, the Guardian, the New Statesman, Wired and New Republic.\\n\\n\\n== Other works ==\\nIn August 2011, Carlin collaborated with tennis superstar Rafael Nadal on the latter\\'s autobiography Rafa (Hyperion, 2012, ISBN 1401310923).\\n\\n\\n== Filmography ==\\nWar on Peace (Documentary, BBC) (1993) (Writer/Interviewer)\\nThe Long Walk of Nelson Mandela (Documentary) PBS Frontline (1999) (Writer/Cast)\\nLive Free or Die Hard (2007) (Script/Article)\\nInvictus (2009) (Book)\\nThe 16th Man (Documentary, ESPN)  (2010) (Writer/Producer)\\nThis is Football (Documentary series, Amazon Prime) (2019) (Executive Produce')"
            ]
          },
          "metadata": {},
          "execution_count": 5
        }
      ]
    },
    {
      "cell_type": "code",
      "source": [
        "len(raw_documents)"
      ],
      "metadata": {
        "colab": {
          "base_uri": "https://localhost:8080/"
        },
        "id": "dMqhsY1l2zTf",
        "outputId": "ad32e239-ee4d-402a-cd6d-440a4fcff270"
      },
      "execution_count": 6,
      "outputs": [
        {
          "output_type": "execute_result",
          "data": {
            "text/plain": [
              "24"
            ]
          },
          "metadata": {},
          "execution_count": 6
        }
      ]
    },
    {
      "cell_type": "markdown",
      "source": [
        "# Split the documents into chunks"
      ],
      "metadata": {
        "id": "MzCbp_Ds33x7"
      }
    },
    {
      "cell_type": "code",
      "source": [
        "text_splitter = TokenTextSplitter(chunk_size=512, chunk_overlap=24)\n",
        "documents = text_splitter.split_documents(raw_documents)\n",
        "documents[:3]"
      ],
      "metadata": {
        "colab": {
          "base_uri": "https://localhost:8080/"
        },
        "collapsed": true,
        "id": "cuG4dBcv38ON",
        "outputId": "f2c1a2ef-195f-4140-d25e-b203a1d868cd"
      },
      "execution_count": 7,
      "outputs": [
        {
          "output_type": "execute_result",
          "data": {
            "text/plain": [
              "[Document(metadata={'title': 'Nelson Mandela', 'summary': 'Nelson Rolihlahla Mandela ( man-DEH-lə; Xhosa: [xolíɬaɬa mandɛ̂ːla]; born Rolihlahla Mandela; 18 July 1918 – 5 December 2013) was a South African anti-apartheid activist, politician, and statesman who served as the first president of South Africa from 1994 to 1999. He was the country\\'s first black head of state and the first elected in a fully representative democratic election. His government focused on dismantling the legacy of apartheid by fostering racial reconciliation. Ideologically an African nationalist and socialist, he served as the president of the African National Congress (ANC) party from 1991 to 1997.\\nA Xhosa, Mandela was born into the Thembu royal family in Mvezo, South Africa. He studied law at the University of Fort Hare and the University of Witwatersrand before working as a lawyer in Johannesburg. There he became involved in anti-colonial and African nationalist politics, joining the ANC in 1943 and co-founding its Youth League in 1944. After the National Party\\'s white-only government established apartheid, a system of racial segregation that privileged whites, Mandela and the ANC committed themselves to its overthrow. He was appointed president of the ANC\\'s Transvaal branch, rising to prominence for his involvement in the 1952 Defiance Campaign and the 1955 Congress of the People. He was repeatedly arrested for seditious activities and was unsuccessfully prosecuted in the 1956 Treason Trial. Influenced by Marxism, he secretly joined the banned South African Communist Party (SACP). Although initially committed to non-violent protest, in association with the SACP he co-founded the militant uMkhonto we Sizwe in 1961 after the Sharpeville massacre and led a sabotage campaign against the apartheid government. He was arrested and imprisoned in 1962, and, following the Rivonia Trial, was sentenced to life imprisonment for conspiring to overthrow the state. Subsequently, the United States designated Mandela a terrorist until 2008.\\nMandela served 27 years in prison, split between Robben Island, Pollsmoor Prison and Victor Verster Prison. Amid growing domestic and international pressure and fears of racial civil war, President F. W. de Klerk released him in 1990. Mandela and de Klerk led efforts to negotiate an end to apartheid, which resulted in the 1994 multiracial general election in which Mandela led the ANC to victory and became president. Leading a broad coalition government which promulgated a new constitution, Mandela emphasised reconciliation between the country\\'s racial groups and created the Truth and Reconciliation Commission to investigate past human rights abuses. Economically, his administration retained its predecessor\\'s liberal framework despite his own socialist beliefs, also introducing measures to encourage land reform, combat poverty and expand healthcare services. Internationally, Mandela acted as mediator in the Pan Am Flight 103 bombing trial and served as secretary-general of the Non-Aligned Movement from 1998 to 1999. He declined a second presidential term and was succeeded by his deputy, Thabo Mbeki. Mandela became an elder statesman and focused on combating poverty and HIV/AIDS through the charitable Nelson Mandela Foundation.\\nMandela was a controversial figure for much of his life. Although critics on the right denounced him as a communist terrorist and those on the far left deemed him too eager to negotiate and reconcile with apartheid\\'s supporters, he gained international acclaim for his activism. Globally regarded as an icon of democracy and social justice, he received more than 250 honours, including the Nobel Peace Prize. He is held in deep respect within South Africa, where he is often referred to by his Thembu clan name, Madiba, and described as the \"Father of the Nation\".', 'source': 'https://en.wikipedia.org/wiki/Nelson_Mandela'}, page_content=\"Nelson Rolihlahla Mandela ( man-DEH-lə; Xhosa: [xolíɬaɬa mandɛ̂ːla]; born Rolihlahla Mandela; 18 July 1918 – 5 December 2013) was a South African anti-apartheid activist, politician, and statesman who served as the first president of South Africa from 1994 to 1999. He was the country's first black head of state and the first elected in a fully representative democratic election. His government focused on dismantling the legacy of apartheid by fostering racial reconciliation. Ideologically an African nationalist and socialist, he served as the president of the African National Congress (ANC) party from 1991 to 1997.\\nA Xhosa, Mandela was born into the Thembu royal family in Mvezo, South Africa. He studied law at the University of Fort Hare and the University of Witwatersrand before working as a lawyer in Johannesburg. There he became involved in anti-colonial and African nationalist politics, joining the ANC in 1943 and co-founding its Youth League in 1944. After the National Party's white-only government established apartheid, a system of racial segregation that privileged whites, Mandela and the ANC committed themselves to its overthrow. He was appointed president of the ANC's Transvaal branch, rising to prominence for his involvement in the 1952 Defiance Campaign and the 1955 Congress of the People. He was repeatedly arrested for seditious activities and was unsuccessfully prosecuted in the 1956 Treason Trial. Influenced by Marxism, he secretly joined the banned South African Communist Party (SACP). Although initially committed to non-violent protest, in association with the SACP he co-founded the militant uMkhonto we Sizwe in 1961 after the Sharpeville massacre and led a sabotage campaign against the apartheid government. He was arrested and imprisoned in 1962, and, following the Rivonia Trial, was sentenced to life imprisonment for conspiring to overthrow the state. Subsequently, the United States designated Mandela a terrorist until 2008.\\nMandela served 27 years in prison, split between Robben Island, Pollsmoor Prison and Victor Verster Prison. Amid growing domestic and international pressure and fears of racial civil war, President F. W. de Klerk released him in 1990. Mandela and de Klerk led efforts to negotiate an end to apartheid, which resulted in the 1994 multiracial general election in which Mandela led the ANC to victory and became president. Leading a broad coalition government which promulg\"),\n",
              " Document(metadata={'title': 'Nelson Mandela', 'summary': 'Nelson Rolihlahla Mandela ( man-DEH-lə; Xhosa: [xolíɬaɬa mandɛ̂ːla]; born Rolihlahla Mandela; 18 July 1918 – 5 December 2013) was a South African anti-apartheid activist, politician, and statesman who served as the first president of South Africa from 1994 to 1999. He was the country\\'s first black head of state and the first elected in a fully representative democratic election. His government focused on dismantling the legacy of apartheid by fostering racial reconciliation. Ideologically an African nationalist and socialist, he served as the president of the African National Congress (ANC) party from 1991 to 1997.\\nA Xhosa, Mandela was born into the Thembu royal family in Mvezo, South Africa. He studied law at the University of Fort Hare and the University of Witwatersrand before working as a lawyer in Johannesburg. There he became involved in anti-colonial and African nationalist politics, joining the ANC in 1943 and co-founding its Youth League in 1944. After the National Party\\'s white-only government established apartheid, a system of racial segregation that privileged whites, Mandela and the ANC committed themselves to its overthrow. He was appointed president of the ANC\\'s Transvaal branch, rising to prominence for his involvement in the 1952 Defiance Campaign and the 1955 Congress of the People. He was repeatedly arrested for seditious activities and was unsuccessfully prosecuted in the 1956 Treason Trial. Influenced by Marxism, he secretly joined the banned South African Communist Party (SACP). Although initially committed to non-violent protest, in association with the SACP he co-founded the militant uMkhonto we Sizwe in 1961 after the Sharpeville massacre and led a sabotage campaign against the apartheid government. He was arrested and imprisoned in 1962, and, following the Rivonia Trial, was sentenced to life imprisonment for conspiring to overthrow the state. Subsequently, the United States designated Mandela a terrorist until 2008.\\nMandela served 27 years in prison, split between Robben Island, Pollsmoor Prison and Victor Verster Prison. Amid growing domestic and international pressure and fears of racial civil war, President F. W. de Klerk released him in 1990. Mandela and de Klerk led efforts to negotiate an end to apartheid, which resulted in the 1994 multiracial general election in which Mandela led the ANC to victory and became president. Leading a broad coalition government which promulgated a new constitution, Mandela emphasised reconciliation between the country\\'s racial groups and created the Truth and Reconciliation Commission to investigate past human rights abuses. Economically, his administration retained its predecessor\\'s liberal framework despite his own socialist beliefs, also introducing measures to encourage land reform, combat poverty and expand healthcare services. Internationally, Mandela acted as mediator in the Pan Am Flight 103 bombing trial and served as secretary-general of the Non-Aligned Movement from 1998 to 1999. He declined a second presidential term and was succeeded by his deputy, Thabo Mbeki. Mandela became an elder statesman and focused on combating poverty and HIV/AIDS through the charitable Nelson Mandela Foundation.\\nMandela was a controversial figure for much of his life. Although critics on the right denounced him as a communist terrorist and those on the far left deemed him too eager to negotiate and reconcile with apartheid\\'s supporters, he gained international acclaim for his activism. Globally regarded as an icon of democracy and social justice, he received more than 250 honours, including the Nobel Peace Prize. He is held in deep respect within South Africa, where he is often referred to by his Thembu clan name, Madiba, and described as the \"Father of the Nation\".', 'source': 'https://en.wikipedia.org/wiki/Nelson_Mandela'}, page_content=' multiracial general election in which Mandela led the ANC to victory and became president. Leading a broad coalition government which promulgated a new constitution, Mandela emphasised reconciliation between the country\\'s racial groups and created the Truth and Reconciliation Commission to investigate past human rights abuses. Economically, his administration retained its predecessor\\'s liberal framework despite his own socialist beliefs, also introducing measures to encourage land reform, combat poverty and expand healthcare services. Internationally, Mandela acted as mediator in the Pan Am Flight 103 bombing trial and served as secretary-general of the Non-Aligned Movement from 1998 to 1999. He declined a second presidential term and was succeeded by his deputy, Thabo Mbeki. Mandela became an elder statesman and focused on combating poverty and HIV/AIDS through the charitable Nelson Mandela Foundation.\\nMandela was a controversial figure for much of his life. Although critics on the right denounced him as a communist terrorist and those on the far left deemed him too eager to negotiate and reconcile with apartheid\\'s supporters, he gained international acclaim for his activism. Globally regarded as an icon of democracy and social justice, he received more than 250 honours, including the Nobel Peace Prize. He is held in deep respect within South Africa, where he is often referred to by his Thembu clan name, Madiba, and described as the \"Father of the Nation\".\\n\\n\\n== Early life ==\\n\\n\\n=== Childhood: 1918–1934 ===\\n\\nMandela was born on 18 July 1918, in the village of Mvezo in Umtata, then part of South Africa\\'s Cape Province. Given the forename Rolihlahla, a Xhosa term collo'),\n",
              " Document(metadata={'title': 'Death and state funeral of Nelson Mandela', 'summary': \"On 5 December 2013, Nelson Mandela, the first president of South Africa to be elected in a fully representative democratic election, as well as the country's first black head of state, died at the age of 95 after a prolonged respiratory infection. He died at around 20:50 local time (UTC+2) at his home in Houghton, Johannesburg, surrounded by family. His death was announced by President Jacob Zuma on national television at 23:45. Reactions from governments, international organisations, and notable individuals, gained worldwide media coverage.\\nSouth Africa observed a national mourning period of 10 days.\\nDuring this time numerous memorial services were conducted across the country. The official memorial service was held at FNB Stadium, Johannesburg, on 10 December where the 95,000-seat stadium was two-thirds full because of the cold, rain, and transport challenges. Mandela's body lay in state at the Union Buildings in Pretoria from 11 to 13 December. A state funeral was held on 15 December in Qunu in the Eastern Cape, where his body was buried.\", 'source': 'https://en.wikipedia.org/wiki/Death_and_state_funeral_of_Nelson_Mandela'}, page_content=\"On 5 December 2013, Nelson Mandela, the first president of South Africa to be elected in a fully representative democratic election, as well as the country's first black head of state, died at the age of 95 after a prolonged respiratory infection. He died at around 20:50 local time (UTC+2) at his home in Houghton, Johannesburg, surrounded by family. His death was announced by President Jacob Zuma on national television at 23:45. Reactions from governments, international organisations, and notable individuals, gained worldwide media coverage.\\nSouth Africa observed a national mourning period of 10 days.\\nDuring this time numerous memorial services were conducted across the country. The official memorial service was held at FNB Stadium, Johannesburg, on 10 December where the 95,000-seat stadium was two-thirds full because of the cold, rain, and transport challenges. Mandela's body lay in state at the Union Buildings in Pretoria from 11 to 13 December. A state funeral was held on 15 December in Qunu in the Eastern Cape, where his body was buried.\\n\\n\\n== Official funeral events ==\\n\\nThe South African government announced a period of 10 days of national mourning ending with the state funeral on 15 December 2013.  President Jacob Zuma ordered that all flags on government buildings be flown at half-mast for the duration of the mourning period.\\nOn 9 December the government confirmed that at least 91 foreign heads of state and government and 15 former leaders would travel to South Africa to attend funeral events. African heads of state and government confirmed to be attending included the Prime Minister of Lesotho, the President of Mozambique, the President of Namibia, the President of Niger, the President of Nigeria, the Prime Minister of Swaziland, the President of Tanzania, the Prime Minister of Lebanon, the President of Namibia, the President of Tunisia, the President of Uganda, the President of Zimbabwe, and the President of Zambia. Nkosazana Dlamini-Zuma attended in her capacity as Chairperson of the African Union Commission.\\nOther notable guests included: \\n\\nHeads of State or of Government: the President of the United States and three former presidents of the United States; the President of India; the Prime Minister of Italy; the Vice President of China; the Chairwoman of the Federation Council of Russia; the President of Brazil; the President of Finland; the President of France; the President of Ireland; the President of Portugal; the Prime Minister of the United Kingdom;\")]"
            ]
          },
          "metadata": {},
          "execution_count": 7
        }
      ]
    },
    {
      "cell_type": "markdown",
      "source": [
        "# Instantiate an LLM Model"
      ],
      "metadata": {
        "id": "QW1jdeHp6kKX"
      }
    },
    {
      "cell_type": "code",
      "source": [
        "llm=ChatOpenAI(temperature=0, model_name=\"gpt-3.5-turbo-0125\")"
      ],
      "metadata": {
        "id": "FY9FEbhb6VSP"
      },
      "execution_count": 8,
      "outputs": []
    },
    {
      "cell_type": "markdown",
      "source": [
        "# Instantiate LLM Graph transformer"
      ],
      "metadata": {
        "id": "0yAGoW4g6ujL"
      }
    },
    {
      "cell_type": "code",
      "source": [
        "llm_transformer = LLMGraphTransformer(llm=llm)"
      ],
      "metadata": {
        "id": "lA9VQPDF6SX7"
      },
      "execution_count": 9,
      "outputs": []
    },
    {
      "cell_type": "markdown",
      "source": [
        "# Converts documents into graph documents"
      ],
      "metadata": {
        "id": "DucDjQxG6-dq"
      }
    },
    {
      "cell_type": "code",
      "source": [
        "graph_documents = llm_transformer.convert_to_graph_documents(documents[:4])"
      ],
      "metadata": {
        "id": "hAjHbDI17DBE"
      },
      "execution_count": 11,
      "outputs": []
    },
    {
      "cell_type": "code",
      "source": [
        "graph_documents[0]"
      ],
      "metadata": {
        "colab": {
          "base_uri": "https://localhost:8080/"
        },
        "collapsed": true,
        "id": "LOcllQ5m7M2R",
        "outputId": "3a5cb0be-893c-45ca-d2a3-98e67c1b8dfa"
      },
      "execution_count": 12,
      "outputs": [
        {
          "output_type": "execute_result",
          "data": {
            "text/plain": [
              "GraphDocument(nodes=[Node(id='Nelson Rolihlahla Mandela', type='Person'), Node(id='South Africa', type='Country'), Node(id='African National Congress', type='Political party'), Node(id='University Of Fort Hare', type='University'), Node(id='University Of Witwatersrand', type='University'), Node(id='Johannesburg', type='City'), Node(id='Thembu Royal Family', type='Family'), Node(id='Mvezo', type='Place'), Node(id='Transvaal Branch', type='Organization'), Node(id='Umkhonto We Sizwe', type='Organization'), Node(id='South African Communist Party', type='Political party'), Node(id='United States', type='Country'), Node(id='Robben Island', type='Prison'), Node(id='Pollsmoor Prison', type='Prison'), Node(id='Victor Verster Prison', type='Prison'), Node(id='F. W. De Klerk', type='Person')], relationships=[Relationship(source=Node(id='Nelson Rolihlahla Mandela', type='Person'), target=Node(id='South Africa', type='Country'), type='BIRTHPLACE'), Relationship(source=Node(id='Nelson Rolihlahla Mandela', type='Person'), target=Node(id='African National Congress', type='Political party'), type='MEMBERSHIP'), Relationship(source=Node(id='Nelson Rolihlahla Mandela', type='Person'), target=Node(id='University Of Fort Hare', type='University'), type='EDUCATION'), Relationship(source=Node(id='Nelson Rolihlahla Mandela', type='Person'), target=Node(id='University Of Witwatersrand', type='University'), type='EDUCATION'), Relationship(source=Node(id='Nelson Rolihlahla Mandela', type='Person'), target=Node(id='Johannesburg', type='City'), type='WORKPLACE'), Relationship(source=Node(id='Nelson Rolihlahla Mandela', type='Person'), target=Node(id='Thembu Royal Family', type='Family'), type='FAMILY'), Relationship(source=Node(id='Nelson Rolihlahla Mandela', type='Person'), target=Node(id='Mvezo', type='Place'), type='BIRTHPLACE'), Relationship(source=Node(id='Nelson Rolihlahla Mandela', type='Person'), target=Node(id='Transvaal Branch', type='Organization'), type='LEADERSHIP'), Relationship(source=Node(id='Nelson Rolihlahla Mandela', type='Person'), target=Node(id='Umkhonto We Sizwe', type='Organization'), type='CO-FOUNDER'), Relationship(source=Node(id='Nelson Rolihlahla Mandela', type='Person'), target=Node(id='South African Communist Party', type='Political party'), type='MEMBERSHIP'), Relationship(source=Node(id='Nelson Rolihlahla Mandela', type='Person'), target=Node(id='Robben Island', type='Prison'), type='IMPRISONMENT'), Relationship(source=Node(id='Nelson Rolihlahla Mandela', type='Person'), target=Node(id='Pollsmoor Prison', type='Prison'), type='IMPRISONMENT'), Relationship(source=Node(id='Nelson Rolihlahla Mandela', type='Person'), target=Node(id='Victor Verster Prison', type='Prison'), type='IMPRISONMENT'), Relationship(source=Node(id='Nelson Rolihlahla Mandela', type='Person'), target=Node(id='F. W. De Klerk', type='Person'), type='NEGOTIATION')], source=Document(metadata={'title': 'Nelson Mandela', 'summary': 'Nelson Rolihlahla Mandela ( man-DEH-lə; Xhosa: [xolíɬaɬa mandɛ̂ːla]; born Rolihlahla Mandela; 18 July 1918 – 5 December 2013) was a South African anti-apartheid activist, politician, and statesman who served as the first president of South Africa from 1994 to 1999. He was the country\\'s first black head of state and the first elected in a fully representative democratic election. His government focused on dismantling the legacy of apartheid by fostering racial reconciliation. Ideologically an African nationalist and socialist, he served as the president of the African National Congress (ANC) party from 1991 to 1997.\\nA Xhosa, Mandela was born into the Thembu royal family in Mvezo, South Africa. He studied law at the University of Fort Hare and the University of Witwatersrand before working as a lawyer in Johannesburg. There he became involved in anti-colonial and African nationalist politics, joining the ANC in 1943 and co-founding its Youth League in 1944. After the National Party\\'s white-only government established apartheid, a system of racial segregation that privileged whites, Mandela and the ANC committed themselves to its overthrow. He was appointed president of the ANC\\'s Transvaal branch, rising to prominence for his involvement in the 1952 Defiance Campaign and the 1955 Congress of the People. He was repeatedly arrested for seditious activities and was unsuccessfully prosecuted in the 1956 Treason Trial. Influenced by Marxism, he secretly joined the banned South African Communist Party (SACP). Although initially committed to non-violent protest, in association with the SACP he co-founded the militant uMkhonto we Sizwe in 1961 after the Sharpeville massacre and led a sabotage campaign against the apartheid government. He was arrested and imprisoned in 1962, and, following the Rivonia Trial, was sentenced to life imprisonment for conspiring to overthrow the state. Subsequently, the United States designated Mandela a terrorist until 2008.\\nMandela served 27 years in prison, split between Robben Island, Pollsmoor Prison and Victor Verster Prison. Amid growing domestic and international pressure and fears of racial civil war, President F. W. de Klerk released him in 1990. Mandela and de Klerk led efforts to negotiate an end to apartheid, which resulted in the 1994 multiracial general election in which Mandela led the ANC to victory and became president. Leading a broad coalition government which promulgated a new constitution, Mandela emphasised reconciliation between the country\\'s racial groups and created the Truth and Reconciliation Commission to investigate past human rights abuses. Economically, his administration retained its predecessor\\'s liberal framework despite his own socialist beliefs, also introducing measures to encourage land reform, combat poverty and expand healthcare services. Internationally, Mandela acted as mediator in the Pan Am Flight 103 bombing trial and served as secretary-general of the Non-Aligned Movement from 1998 to 1999. He declined a second presidential term and was succeeded by his deputy, Thabo Mbeki. Mandela became an elder statesman and focused on combating poverty and HIV/AIDS through the charitable Nelson Mandela Foundation.\\nMandela was a controversial figure for much of his life. Although critics on the right denounced him as a communist terrorist and those on the far left deemed him too eager to negotiate and reconcile with apartheid\\'s supporters, he gained international acclaim for his activism. Globally regarded as an icon of democracy and social justice, he received more than 250 honours, including the Nobel Peace Prize. He is held in deep respect within South Africa, where he is often referred to by his Thembu clan name, Madiba, and described as the \"Father of the Nation\".', 'source': 'https://en.wikipedia.org/wiki/Nelson_Mandela'}, page_content=\"Nelson Rolihlahla Mandela ( man-DEH-lə; Xhosa: [xolíɬaɬa mandɛ̂ːla]; born Rolihlahla Mandela; 18 July 1918 – 5 December 2013) was a South African anti-apartheid activist, politician, and statesman who served as the first president of South Africa from 1994 to 1999. He was the country's first black head of state and the first elected in a fully representative democratic election. His government focused on dismantling the legacy of apartheid by fostering racial reconciliation. Ideologically an African nationalist and socialist, he served as the president of the African National Congress (ANC) party from 1991 to 1997.\\nA Xhosa, Mandela was born into the Thembu royal family in Mvezo, South Africa. He studied law at the University of Fort Hare and the University of Witwatersrand before working as a lawyer in Johannesburg. There he became involved in anti-colonial and African nationalist politics, joining the ANC in 1943 and co-founding its Youth League in 1944. After the National Party's white-only government established apartheid, a system of racial segregation that privileged whites, Mandela and the ANC committed themselves to its overthrow. He was appointed president of the ANC's Transvaal branch, rising to prominence for his involvement in the 1952 Defiance Campaign and the 1955 Congress of the People. He was repeatedly arrested for seditious activities and was unsuccessfully prosecuted in the 1956 Treason Trial. Influenced by Marxism, he secretly joined the banned South African Communist Party (SACP). Although initially committed to non-violent protest, in association with the SACP he co-founded the militant uMkhonto we Sizwe in 1961 after the Sharpeville massacre and led a sabotage campaign against the apartheid government. He was arrested and imprisoned in 1962, and, following the Rivonia Trial, was sentenced to life imprisonment for conspiring to overthrow the state. Subsequently, the United States designated Mandela a terrorist until 2008.\\nMandela served 27 years in prison, split between Robben Island, Pollsmoor Prison and Victor Verster Prison. Amid growing domestic and international pressure and fears of racial civil war, President F. W. de Klerk released him in 1990. Mandela and de Klerk led efforts to negotiate an end to apartheid, which resulted in the 1994 multiracial general election in which Mandela led the ANC to victory and became president. Leading a broad coalition government which promulg\"))"
            ]
          },
          "metadata": {},
          "execution_count": 12
        }
      ]
    },
    {
      "cell_type": "markdown",
      "source": [
        "# Load graph documents into graph db"
      ],
      "metadata": {
        "id": "w7iyP03y_Njj"
      }
    },
    {
      "cell_type": "code",
      "source": [
        "graph = Neo4jGraph()\n",
        "graph.add_graph_documents(\n",
        "    graph_documents,\n",
        "    baseEntityLabel=True,\n",
        "    include_source=True\n",
        ")\n",
        "graph"
      ],
      "metadata": {
        "id": "D8AlKtBU-zZg"
      },
      "execution_count": 13,
      "outputs": []
    },
    {
      "cell_type": "code",
      "source": [
        "try:\n",
        "  import google.colab\n",
        "  from google.colab import output\n",
        "  output.enable_custom_widget_manager()\n",
        "except:\n",
        "  pass"
      ],
      "metadata": {
        "id": "jTT6PX6a_WY4"
      },
      "execution_count": 16,
      "outputs": []
    },
    {
      "cell_type": "code",
      "source": [
        "# directly show the graph resulting from the given Cypher query\n",
        "default_cypher = \"MATCH (s)-[r:!MENTIONS]->(t) RETURN s,r,t LIMIT 50\""
      ],
      "metadata": {
        "id": "ya2_M4LDAK2h"
      },
      "execution_count": 18,
      "outputs": []
    },
    {
      "cell_type": "code",
      "source": [
        "def showGraph(cypher: str = default_cypher):\n",
        "    # create a neo4j session to run queries\n",
        "    driver = GraphDatabase.driver(\n",
        "        uri = os.environ[\"NEO4J_URI\"],\n",
        "        auth = (os.environ[\"NEO4J_USERNAME\"],\n",
        "                os.environ[\"NEO4J_PASSWORD\"]))\n",
        "    session = driver.session()\n",
        "    widget = GraphWidget(graph = session.run(cypher).graph())\n",
        "    widget.node_label_mapping = 'id'\n",
        "    display(widget)\n",
        "    return widget"
      ],
      "metadata": {
        "id": "8xvTlUz8ACCr"
      },
      "execution_count": 19,
      "outputs": []
    },
    {
      "cell_type": "code",
      "source": [
        "showGraph()"
      ],
      "metadata": {
        "colab": {
          "base_uri": "https://localhost:8080/",
          "height": 1000,
          "referenced_widgets": [
            "5a02ae52f3fd433c8af0a87664a8f66f",
            "1fdf4a1f418948a2be0fe053f4b95aef",
            "6a7537b7f4044007a854573ffe32ab83"
          ]
        },
        "id": "pCW6eLQxAR_r",
        "outputId": "0ac515ac-0415-4e1e-f7d7-406c5c6737cb"
      },
      "execution_count": 20,
      "outputs": [
        {
          "output_type": "display_data",
          "data": {
            "text/plain": [
              "GraphWidget(layout=Layout(height='800px', width='100%'))"
            ],
            "application/vnd.jupyter.widget-view+json": {
              "version_major": 2,
              "version_minor": 0,
              "model_id": "5a02ae52f3fd433c8af0a87664a8f66f"
            }
          },
          "metadata": {
            "application/vnd.jupyter.widget-view+json": {
              "colab": {
                "custom_widget_manager": {
                  "url": "https://ssl.gstatic.com/colaboratory-static/widgets/colab-cdn-widget-manager/2b70e893a8ba7c0f/manager.min.js"
                }
              }
            }
          }
        },
        {
          "output_type": "display_data",
          "data": {
            "text/plain": [
              "GraphWidget(layout=Layout(height='800px', width='100%'))"
            ],
            "application/vnd.jupyter.widget-view+json": {
              "version_major": 2,
              "version_minor": 0,
              "model_id": "5a02ae52f3fd433c8af0a87664a8f66f"
            }
          },
          "metadata": {
            "application/vnd.jupyter.widget-view+json": {
              "colab": {
                "custom_widget_manager": {
                  "url": "https://ssl.gstatic.com/colaboratory-static/widgets/colab-cdn-widget-manager/2b70e893a8ba7c0f/manager.min.js"
                }
              }
            }
          }
        }
      ]
    }
  ]
}