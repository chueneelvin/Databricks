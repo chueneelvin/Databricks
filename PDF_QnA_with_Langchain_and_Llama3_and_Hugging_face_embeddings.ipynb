{
  "cells": [
    {
      "cell_type": "markdown",
      "metadata": {
        "id": "view-in-github",
        "colab_type": "text"
      },
      "source": [
        "<a href=\"https://colab.research.google.com/github/chueneelvin/Databricks/blob/main/PDF_QnA_with_Langchain_and_Llama3_and_Hugging_face_embeddings.ipynb\" target=\"_parent\"><img src=\"https://colab.research.google.com/assets/colab-badge.svg\" alt=\"Open In Colab\"/></a>"
      ]
    },
    {
      "cell_type": "markdown",
      "source": [
        "# Install required packages"
      ],
      "metadata": {
        "id": "ty-KHFWkGZ5D"
      }
    },
    {
      "cell_type": "code",
      "execution_count": 32,
      "metadata": {
        "id": "zqSE2D64U0Fr",
        "collapsed": true,
        "colab": {
          "base_uri": "https://localhost:8080/"
        },
        "outputId": "3b8a8de9-6cfb-40a1-b061-ece386177207"
      },
      "outputs": [
        {
          "output_type": "stream",
          "name": "stdout",
          "text": [
            "\u001b[?25l   \u001b[90m━━━━━━━━━━━━━━━━━━━━━━━━━━━━━━━━━━━━━━━━\u001b[0m \u001b[32m0.0/106.5 kB\u001b[0m \u001b[31m?\u001b[0m eta \u001b[36m-:--:--\u001b[0m\r\u001b[2K   \u001b[90m━━━━━━━━━━━━━━━━━━━━━━━━━━━━━━━━━━━━━━━━\u001b[0m \u001b[32m106.5/106.5 kB\u001b[0m \u001b[31m3.7 MB/s\u001b[0m eta \u001b[36m0:00:00\u001b[0m\n",
            "\u001b[?25h"
          ]
        }
      ],
      "source": [
        "!pip -q install langchain pypdf langchain-community langchain-text-splitters langchain_experimental langchain_openai langchain-chroma langchain-pinecone python-dotenv chromadb faiss-cpu unstructured[pdf] poppler-utils langsmith tesseract sentence_transformers langchain_ollama langchain-groq"
      ]
    },
    {
      "cell_type": "markdown",
      "source": [
        "# Importing the dependecies"
      ],
      "metadata": {
        "id": "qsLJSPl0GeiD"
      }
    },
    {
      "cell_type": "code",
      "execution_count": 36,
      "metadata": {
        "id": "NlZpWCUdWPUO"
      },
      "outputs": [],
      "source": [
        "from langchain_community.document_loaders import PyPDFLoader        # Loading the docuements\n",
        "from langchain_community.document_loaders import DirectoryLoader   # Loading the documents from a directory\n",
        "from langchain_text_splitters import RecursiveCharacterTextSplitter # Text chunks using recursive spliter\n",
        "from langchain_experimental.text_splitter import SemanticChunker    # Semantic text chuncking\n",
        "from langchain_openai import OpenAIEmbeddings                       # openai embedding models\n",
        "from langchain_chroma import Chroma                                 # vector database Chromadb\n",
        "from langchain.vectorstores import Pinecone                  # vector database Pinecone\n",
        "from langchain_community.vectorstores import FAISS\n",
        "from langchain.chains.question_answering import load_qa_chain\n",
        "from langchain_openai import OpenAI\n",
        "import pinecone\n",
        "import os\n",
        "from langchain_groq import ChatGroq\n"
      ]
    },
    {
      "cell_type": "markdown",
      "source": [
        "# Loading the data"
      ],
      "metadata": {
        "id": "Q5WAramKGksg"
      }
    },
    {
      "cell_type": "markdown",
      "source": [
        "## loading single files (pdf)"
      ],
      "metadata": {
        "id": "-V7vjI45119P"
      }
    },
    {
      "cell_type": "code",
      "execution_count": 3,
      "metadata": {
        "id": "u5BB9R78a2jU"
      },
      "outputs": [],
      "source": [
        "loader = PyPDFLoader(\"/content/Farming Potatoes in South Africa_ What You Need to Know.pdf\")\n",
        "docs = loader.load()"
      ]
    },
    {
      "cell_type": "code",
      "execution_count": 4,
      "metadata": {
        "colab": {
          "base_uri": "https://localhost:8080/"
        },
        "id": "0TQZo-YhbC7x",
        "outputId": "a2583dd4-e3ee-4d97-b164-3fae61a58cba",
        "collapsed": true
      },
      "outputs": [
        {
          "output_type": "execute_result",
          "data": {
            "text/plain": [
              "Document(metadata={'source': '/content/Farming Potatoes in South Africa_ What You Need to Know.pdf', 'page': 0}, page_content=\"\\uf1bf\\nFarming P otatoes In South Africa: What\\nYou Need To Know\\n“My idea of hea ven is a gr eat big bak ed potat o and\\nsomeone t o shar e it with. ”\\n- Opr ah Winfr ey\\nWhat's in this guide?\\n1. Introduction: Farming potatoes in South Africa\\n2. All about seed potatoes\\n3. Growing potatoes in South Africa\\n4. Challenges of potato farming\\n5. Sustainable potato farming\\nChapter 1\\nIntroduction: F arming P otatoes in South Africa\\nIn South Africa, maiz e meal and br ead ar e the most commonly consumed sour ces of\\ncarbohy drates. Howe ver, South Africans ha ve eaten twice as many potat oes o ver the past\\ndecade compar ed to the decade befor e it, buo yed b y a gr owing middle class.\")"
            ]
          },
          "metadata": {},
          "execution_count": 4
        }
      ],
      "source": [
        "docs[0]"
      ]
    },
    {
      "cell_type": "markdown",
      "metadata": {
        "id": "yCVU4bCMb-E6"
      },
      "source": [
        "# Text Chunking"
      ]
    },
    {
      "cell_type": "markdown",
      "metadata": {
        "id": "afz0t2GXcNNj"
      },
      "source": [
        "## Recursive chuncking"
      ]
    },
    {
      "cell_type": "code",
      "execution_count": 53,
      "metadata": {
        "colab": {
          "base_uri": "https://localhost:8080/"
        },
        "id": "jPjv-lC7dQnn",
        "outputId": "cec92f48-49b6-478a-995a-15eb437053f8"
      },
      "outputs": [
        {
          "output_type": "execute_result",
          "data": {
            "text/plain": [
              "35"
            ]
          },
          "metadata": {},
          "execution_count": 53
        }
      ],
      "source": [
        "text_splitter = RecursiveCharacterTextSplitter(\n",
        "    chunk_size=1000,\n",
        "    chunk_overlap=150,\n",
        "    length_function=len\n",
        ")\n",
        "\n",
        "chunked_docs = text_splitter.split_documents(docs)\n",
        "len(chunked_docs)"
      ]
    },
    {
      "cell_type": "code",
      "source": [
        "chunked_docs[:3]"
      ],
      "metadata": {
        "colab": {
          "base_uri": "https://localhost:8080/"
        },
        "collapsed": true,
        "id": "7kVAaiMdzJMH",
        "outputId": "0988d44c-0333-4963-8b43-d4f79bc80e93"
      },
      "execution_count": 54,
      "outputs": [
        {
          "output_type": "execute_result",
          "data": {
            "text/plain": [
              "[Document(metadata={'source': '/content/Farming Potatoes in South Africa_ What You Need to Know.pdf', 'page': 0}, page_content=\"\\uf1bf\\nFarming P otatoes In South Africa: What\\nYou Need To Know\\n“My idea of hea ven is a gr eat big bak ed potat o and\\nsomeone t o shar e it with. ”\\n- Opr ah Winfr ey\\nWhat's in this guide?\\n1. Introduction: Farming potatoes in South Africa\\n2. All about seed potatoes\\n3. Growing potatoes in South Africa\\n4. Challenges of potato farming\\n5. Sustainable potato farming\\nChapter 1\\nIntroduction: F arming P otatoes in South Africa\\nIn South Africa, maiz e meal and br ead ar e the most commonly consumed sour ces of\\ncarbohy drates. Howe ver, South Africans ha ve eaten twice as many potat oes o ver the past\\ndecade compar ed to the decade befor e it, buo yed b y a gr owing middle class.\"),\n",
              " Document(metadata={'source': '/content/Farming Potatoes in South Africa_ What You Need to Know.pdf', 'page': 1}, page_content='This incr ease in consumption has occurr ed despite the rising input costs, unstable weather\\nconditions and, mor e recently , the o verall uncer tainty br ought about b y CO VID-19.\\nThe role of potatoes in the food system\\n“What I sa y is that, if a man r eally lik es potat oes, he must\\nbe a pr etty decent sor t of f ellow .”\\n- A. A. Milne\\nFresh potat oes ha ve remained one of the world’ s favourite foods for thousands of y ears. In his\\nbook Notes of a Potato Watcher, sociologist James Lang wr ote: “No cr op pr oduced mor e\\nfood per acr e, demanded less cultiv ation and st ored as easily as the potat o.” Potatoes wer e\\nprized b y villagers since the y provided an unmatched nutritional yield per hectar e.\\xa0\\nPotatoes contain almost all impor tant vitamins and nutrients, ex cept vitamins A and D . This\\nmak es them unriv alled b y any other single cr op. K eeping the skin on and adding some dair y\\n(which contains the missing vitamins) cr eates a healthy human diet staple.'),\n",
              " Document(metadata={'source': '/content/Farming Potatoes in South Africa_ What You Need to Know.pdf', 'page': 1}, page_content=\"(which contains the missing vitamins) cr eates a healthy human diet staple.\\nHere's why potatoes are such a powerhouse\\nMultifaceted\")]"
            ]
          },
          "metadata": {},
          "execution_count": 54
        }
      ]
    },
    {
      "cell_type": "markdown",
      "metadata": {
        "id": "Q2XAMgQFsAzL"
      },
      "source": [
        "# Setting the environmental variables"
      ]
    },
    {
      "cell_type": "code",
      "source": [
        "# Get the API key from user data\n",
        "from google.colab import userdata\n",
        "os.environ['OPENAI_API_KEY'] = userdata.get('OPENAI_API_KEY')\n",
        "os.environ['PINECONE_API_KEY'] = userdata.get('PINECONE_API_KEY')\n",
        "os.environ['GROQ_API_KEY'] = userdata.get('GROQ_API_KEY') # https://console.groq.com/keys"
      ],
      "metadata": {
        "id": "_CqmEONY1bFL"
      },
      "execution_count": 55,
      "outputs": []
    },
    {
      "cell_type": "markdown",
      "source": [
        "# Initialize the embedding models"
      ],
      "metadata": {
        "id": "7jk30vP5Jtuf"
      }
    },
    {
      "cell_type": "code",
      "source": [
        "from langchain.embeddings import HuggingFaceEmbeddings\n",
        "\n",
        "# Get the Hugging Face token from user data\n",
        "hf_token = userdata.get('HF_TOKEN')\n",
        "\n",
        "# Create embeddings using the specified model\n",
        "embeddings = HuggingFaceEmbeddings(model_name=\"sentence-transformers/all-MiniLM-L6-v2\")\n",
        "embeddings"
      ],
      "metadata": {
        "colab": {
          "base_uri": "https://localhost:8080/"
        },
        "id": "azBnLlTIp2K9",
        "outputId": "995f28c2-e222-4986-bb53-15907ba9a580"
      },
      "execution_count": 56,
      "outputs": [
        {
          "output_type": "stream",
          "name": "stderr",
          "text": [
            "/usr/local/lib/python3.10/dist-packages/transformers/tokenization_utils_base.py:1601: FutureWarning: `clean_up_tokenization_spaces` was not set. It will be set to `True` by default. This behavior will be depracted in transformers v4.45, and will be then set to `False` by default. For more details check this issue: https://github.com/huggingface/transformers/issues/31884\n",
            "  warnings.warn(\n"
          ]
        },
        {
          "output_type": "execute_result",
          "data": {
            "text/plain": [
              "HuggingFaceEmbeddings(client=SentenceTransformer(\n",
              "  (0): Transformer({'max_seq_length': 256, 'do_lower_case': False}) with Transformer model: BertModel \n",
              "  (1): Pooling({'word_embedding_dimension': 384, 'pooling_mode_cls_token': False, 'pooling_mode_mean_tokens': True, 'pooling_mode_max_tokens': False, 'pooling_mode_mean_sqrt_len_tokens': False, 'pooling_mode_weightedmean_tokens': False, 'pooling_mode_lasttoken': False, 'include_prompt': True})\n",
              "  (2): Normalize()\n",
              "), model_name='sentence-transformers/all-MiniLM-L6-v2', cache_folder=None, model_kwargs={}, encode_kwargs={}, multi_process=False, show_progress=False)"
            ]
          },
          "metadata": {},
          "execution_count": 56
        }
      ]
    },
    {
      "cell_type": "markdown",
      "source": [
        "# Convert chuncks into vector embeddings and store in FAISS DB"
      ],
      "metadata": {
        "id": "f0RqhlsN-ELT"
      }
    },
    {
      "cell_type": "code",
      "source": [
        "faiss_db = FAISS.from_documents(chunked_docs, embeddings)\n",
        "faiss_db"
      ],
      "metadata": {
        "colab": {
          "base_uri": "https://localhost:8080/"
        },
        "id": "AaLSREob8UDW",
        "outputId": "840f2506-736a-43c0-f2e8-781c568be0b4"
      },
      "execution_count": 57,
      "outputs": [
        {
          "output_type": "execute_result",
          "data": {
            "text/plain": [
              "<langchain_community.vectorstores.faiss.FAISS at 0x7990f936d660>"
            ]
          },
          "metadata": {},
          "execution_count": 57
        }
      ]
    },
    {
      "cell_type": "markdown",
      "source": [
        "# Initialize the LLM model (llama3)"
      ],
      "metadata": {
        "id": "pSpzQ1K3KLPt"
      }
    },
    {
      "cell_type": "code",
      "source": [
        "from langchain_groq import ChatGroq\n",
        "llm_llama = ChatGroq(temperature=0, model_name=\"llama3-70b-8192\")\n",
        "llm_llama"
      ],
      "metadata": {
        "colab": {
          "base_uri": "https://localhost:8080/"
        },
        "id": "YZ3l8B9exOpC",
        "outputId": "4bf73049-8c3e-4796-c372-cbc7aac722d2"
      },
      "execution_count": 73,
      "outputs": [
        {
          "output_type": "execute_result",
          "data": {
            "text/plain": [
              "ChatGroq(client=<groq.resources.chat.completions.Completions object at 0x7990f5c91780>, async_client=<groq.resources.chat.completions.AsyncCompletions object at 0x7990f5c922f0>, model_name='llama3-70b-8192', temperature=1e-08, groq_api_key=SecretStr('**********'))"
            ]
          },
          "metadata": {},
          "execution_count": 73
        }
      ]
    },
    {
      "cell_type": "markdown",
      "source": [
        "# Create a chain"
      ],
      "metadata": {
        "id": "9kQHLH2nKWsl"
      }
    },
    {
      "cell_type": "code",
      "source": [
        "chain = load_qa_chain(llm=llm_llama, chain_type=\"stuff\")\n",
        "chain\n",
        "#from langchain.prompts import PromptTemplate\n",
        "#from langchain.chains import LLMChain\n",
        "#llm = OpenAI()\n",
        "#chain = StuffDocumentsChain(llm_chain = LLMChain(llm=llm, prompt=PromptTemplate.from_template(\"Summarize this content: {context}\")), verbose=True)\n",
        "#chain"
      ],
      "metadata": {
        "collapsed": true,
        "id": "YhaHkGyOSaJm",
        "colab": {
          "base_uri": "https://localhost:8080/"
        },
        "outputId": "3cad1888-e2e9-4976-b8fb-b7a8b9e8b709"
      },
      "execution_count": 74,
      "outputs": [
        {
          "output_type": "execute_result",
          "data": {
            "text/plain": [
              "StuffDocumentsChain(llm_chain=LLMChain(prompt=ChatPromptTemplate(input_variables=['context', 'question'], messages=[SystemMessagePromptTemplate(prompt=PromptTemplate(input_variables=['context'], template=\"Use the following pieces of context to answer the user's question. \\nIf you don't know the answer, just say that you don't know, don't try to make up an answer.\\n----------------\\n{context}\")), HumanMessagePromptTemplate(prompt=PromptTemplate(input_variables=['question'], template='{question}'))]), llm=ChatGroq(client=<groq.resources.chat.completions.Completions object at 0x7990f5c91780>, async_client=<groq.resources.chat.completions.AsyncCompletions object at 0x7990f5c922f0>, model_name='llama3-70b-8192', temperature=1e-08, groq_api_key=SecretStr('**********'))), document_variable_name='context')"
            ]
          },
          "metadata": {},
          "execution_count": 74
        }
      ]
    },
    {
      "cell_type": "markdown",
      "source": [
        "# Query the vector db"
      ],
      "metadata": {
        "id": "dfEP8hLfKZwH"
      }
    },
    {
      "source": [
        "query= \"what are typical potato cost of production in hectares?\"\n",
        "results = faiss_db.similarity_search(query)\n",
        "chain.invoke({'input_documents': results, 'question': query})['output_text']"
      ],
      "cell_type": "code",
      "metadata": {
        "colab": {
          "base_uri": "https://localhost:8080/",
          "height": 52
        },
        "id": "nzsQ8zKZFJkB",
        "outputId": "4f29f820-1a89-45f3-a347-b3579644e3ea"
      },
      "execution_count": 85,
      "outputs": [
        {
          "output_type": "execute_result",
          "data": {
            "text/plain": [
              "'According to the provided context, the typical potato cost of production in hectares in South Africa is between R160,000 and R240,000 per hectare.'"
            ],
            "application/vnd.google.colaboratory.intrinsic+json": {
              "type": "string"
            }
          },
          "metadata": {},
          "execution_count": 85
        }
      ]
    }
  ],
  "metadata": {
    "colab": {
      "provenance": [],
      "authorship_tag": "ABX9TyPm4cyTlVBl4tinUEgf+X5L",
      "include_colab_link": true
    },
    "kernelspec": {
      "display_name": "Python 3",
      "name": "python3"
    },
    "language_info": {
      "name": "python"
    }
  },
  "nbformat": 4,
  "nbformat_minor": 0
}