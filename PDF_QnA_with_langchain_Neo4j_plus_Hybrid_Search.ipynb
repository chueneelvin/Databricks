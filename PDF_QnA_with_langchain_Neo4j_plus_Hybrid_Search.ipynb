{
  "nbformat": 4,
  "nbformat_minor": 0,
  "metadata": {
    "colab": {
      "provenance": [],
      "authorship_tag": "ABX9TyMRHBtu7SDh8u+Ce932pFWP",
      "include_colab_link": true
    },
    "kernelspec": {
      "name": "python3",
      "display_name": "Python 3"
    },
    "language_info": {
      "name": "python"
    }
  },
  "cells": [
    {
      "cell_type": "markdown",
      "metadata": {
        "id": "view-in-github",
        "colab_type": "text"
      },
      "source": [
        "<a href=\"https://colab.research.google.com/github/chueneelvin/Databricks/blob/main/PDF_QnA_with_langchain_Neo4j_plus_Hybrid_Search.ipynb\" target=\"_parent\"><img src=\"https://colab.research.google.com/assets/colab-badge.svg\" alt=\"Open In Colab\"/></a>"
      ]
    },
    {
      "cell_type": "markdown",
      "source": [
        "# Introduction"
      ],
      "metadata": {
        "id": "Z1r1NCObiC41"
      }
    },
    {
      "cell_type": "markdown",
      "source": [
        "Neo4j Vector Index\n",
        "Neo4j is an open-source graph database with integrated support for vector similarity search\n",
        "\n",
        "It supports:\n",
        "\n",
        "- approximate nearest neighbor search.\n",
        "- Euclidean similarity and cosine similarity.\n",
        "- Hybrid search combining vector and keyword searches.\n",
        "\n",
        "This notebook shows how to use the Neo4j vector index (Neo4jVector)."
      ],
      "metadata": {
        "id": "OpoisuBDiFB0"
      }
    },
    {
      "cell_type": "markdown",
      "source": [
        "# Intall required libraries"
      ],
      "metadata": {
        "id": "rrbmJQBeh3MS"
      }
    },
    {
      "cell_type": "code",
      "execution_count": 2,
      "metadata": {
        "colab": {
          "base_uri": "https://localhost:8080/"
        },
        "collapsed": true,
        "id": "TASwTEN6hkO4",
        "outputId": "ba4e635d-b40a-447b-e406-d9f143b05500"
      },
      "outputs": [
        {
          "output_type": "stream",
          "name": "stdout",
          "text": [
            "\u001b[2K   \u001b[90m━━━━━━━━━━━━━━━━━━━━━━━━━━━━━━━━━━━━━━━━\u001b[0m \u001b[32m294.6/294.6 kB\u001b[0m \u001b[31m4.7 MB/s\u001b[0m eta \u001b[36m0:00:00\u001b[0m\n",
            "\u001b[2K     \u001b[90m━━━━━━━━━━━━━━━━━━━━━━━━━━━━━━━━━━━━━━━━\u001b[0m \u001b[32m50.4/50.4 kB\u001b[0m \u001b[31m2.8 MB/s\u001b[0m eta \u001b[36m0:00:00\u001b[0m\n",
            "\u001b[2K   \u001b[90m━━━━━━━━━━━━━━━━━━━━━━━━━━━━━━━━━━━━━━━━\u001b[0m \u001b[32m52.0/52.0 kB\u001b[0m \u001b[31m3.1 MB/s\u001b[0m eta \u001b[36m0:00:00\u001b[0m\n",
            "\u001b[2K   \u001b[90m━━━━━━━━━━━━━━━━━━━━━━━━━━━━━━━━━━━━━━━━\u001b[0m \u001b[32m2.3/2.3 MB\u001b[0m \u001b[31m29.2 MB/s\u001b[0m eta \u001b[36m0:00:00\u001b[0m\n",
            "\u001b[2K   \u001b[90m━━━━━━━━━━━━━━━━━━━━━━━━━━━━━━━━━━━━━━━━\u001b[0m \u001b[32m1.0/1.0 MB\u001b[0m \u001b[31m41.8 MB/s\u001b[0m eta \u001b[36m0:00:00\u001b[0m\n",
            "\u001b[2K   \u001b[90m━━━━━━━━━━━━━━━━━━━━━━━━━━━━━━━━━━━━━━━━\u001b[0m \u001b[32m396.4/396.4 kB\u001b[0m \u001b[31m21.7 MB/s\u001b[0m eta \u001b[36m0:00:00\u001b[0m\n",
            "\u001b[2K   \u001b[90m━━━━━━━━━━━━━━━━━━━━━━━━━━━━━━━━━━━━━━━━\u001b[0m \u001b[32m290.0/290.0 kB\u001b[0m \u001b[31m16.5 MB/s\u001b[0m eta \u001b[36m0:00:00\u001b[0m\n",
            "\u001b[2K   \u001b[90m━━━━━━━━━━━━━━━━━━━━━━━━━━━━━━━━━━━━━━━━\u001b[0m \u001b[32m365.7/365.7 kB\u001b[0m \u001b[31m18.6 MB/s\u001b[0m eta \u001b[36m0:00:00\u001b[0m\n",
            "\u001b[2K   \u001b[90m━━━━━━━━━━━━━━━━━━━━━━━━━━━━━━━━━━━━━━━━\u001b[0m \u001b[32m1.1/1.1 MB\u001b[0m \u001b[31m39.0 MB/s\u001b[0m eta \u001b[36m0:00:00\u001b[0m\n",
            "\u001b[2K   \u001b[90m━━━━━━━━━━━━━━━━━━━━━━━━━━━━━━━━━━━━━━━━\u001b[0m \u001b[32m76.4/76.4 kB\u001b[0m \u001b[31m4.7 MB/s\u001b[0m eta \u001b[36m0:00:00\u001b[0m\n",
            "\u001b[2K   \u001b[90m━━━━━━━━━━━━━━━━━━━━━━━━━━━━━━━━━━━━━━━━\u001b[0m \u001b[32m77.9/77.9 kB\u001b[0m \u001b[31m4.7 MB/s\u001b[0m eta \u001b[36m0:00:00\u001b[0m\n",
            "\u001b[2K   \u001b[90m━━━━━━━━━━━━━━━━━━━━━━━━━━━━━━━━━━━━━━━━\u001b[0m \u001b[32m318.9/318.9 kB\u001b[0m \u001b[31m19.4 MB/s\u001b[0m eta \u001b[36m0:00:00\u001b[0m\n",
            "\u001b[2K   \u001b[90m━━━━━━━━━━━━━━━━━━━━━━━━━━━━━━━━━━━━━━━━\u001b[0m \u001b[32m49.3/49.3 kB\u001b[0m \u001b[31m3.6 MB/s\u001b[0m eta \u001b[36m0:00:00\u001b[0m\n",
            "\u001b[2K   \u001b[90m━━━━━━━━━━━━━━━━━━━━━━━━━━━━━━━━━━━━━━━━\u001b[0m \u001b[32m141.9/141.9 kB\u001b[0m \u001b[31m8.7 MB/s\u001b[0m eta \u001b[36m0:00:00\u001b[0m\n",
            "\u001b[2K   \u001b[90m━━━━━━━━━━━━━━━━━━━━━━━━━━━━━━━━━━━━━━━━\u001b[0m \u001b[32m58.3/58.3 kB\u001b[0m \u001b[31m3.8 MB/s\u001b[0m eta \u001b[36m0:00:00\u001b[0m\n",
            "\u001b[?25hCollecting pypdf\n",
            "  Downloading pypdf-4.3.1-py3-none-any.whl.metadata (7.4 kB)\n",
            "Requirement already satisfied: typing_extensions>=4.0 in /usr/local/lib/python3.10/dist-packages (from pypdf) (4.12.2)\n",
            "Downloading pypdf-4.3.1-py3-none-any.whl (295 kB)\n",
            "\u001b[2K   \u001b[90m━━━━━━━━━━━━━━━━━━━━━━━━━━━━━━━━━━━━━━━━\u001b[0m \u001b[32m295.8/295.8 kB\u001b[0m \u001b[31m4.4 MB/s\u001b[0m eta \u001b[36m0:00:00\u001b[0m\n",
            "\u001b[?25hInstalling collected packages: pypdf\n",
            "Successfully installed pypdf-4.3.1\n"
          ]
        }
      ],
      "source": [
        "# Pip install necessary package\n",
        "%pip install --upgrade --quiet  neo4j\n",
        "%pip install --upgrade --quiet  langchain-openai langchain-community\n",
        "%pip install --upgrade --quiet  tiktoken\n",
        "%pip install pypdf"
      ]
    },
    {
      "cell_type": "markdown",
      "source": [
        "# Import the required libraries"
      ],
      "metadata": {
        "id": "_3x2Q8xyilVo"
      }
    },
    {
      "cell_type": "code",
      "source": [
        "from langchain_community.document_loaders import PyPDFLoader\n",
        "from langchain_community.vectorstores import Neo4jVector\n",
        "from langchain_core.documents import Document\n",
        "from langchain_openai import OpenAIEmbeddings\n",
        "from langchain_text_splitters import CharacterTextSplitter\n",
        "import os"
      ],
      "metadata": {
        "id": "FZwdfDOEjAx4"
      },
      "execution_count": 3,
      "outputs": []
    },
    {
      "cell_type": "markdown",
      "source": [
        "# Set up the environment variables"
      ],
      "metadata": {
        "id": "vFjJCVGrjSfv"
      }
    },
    {
      "cell_type": "code",
      "source": [
        "# Get the API key from user data\n",
        "from google.colab import userdata\n",
        "os.environ['OPENAI_API_KEY'] = userdata.get('OPENAI_API_KEY')\n",
        "os.environ[\"OPENAI_API_KEY\"] = userdata.get('OPENAI_API_KEY')\n",
        "os.environ[\"NEO4J_URI\"]      = userdata.get('NEO4J_URI')\n",
        "os.environ[\"NEO4J_USERNAME\"] = userdata.get('NEO4J_USERNAME')\n",
        "os.environ[\"NEO4J_PASSWORD\"] = userdata.get('NEO4J_PASSWORD')"
      ],
      "metadata": {
        "id": "Z4NlprcQjVcf"
      },
      "execution_count": 4,
      "outputs": []
    },
    {
      "cell_type": "markdown",
      "source": [
        "# Data ingestion"
      ],
      "metadata": {
        "id": "P6tjTdx-kp4Z"
      }
    },
    {
      "cell_type": "code",
      "source": [
        "# Load the data\n",
        "loader = PyPDFLoader(\"/content/Farming Potatoes in South Africa_ What You Need to Know.pdf\")\n",
        "documents = loader.load()\n",
        "\n",
        "#split the data into chunks\n",
        "text_splitter = CharacterTextSplitter(chunk_size=1000, chunk_overlap=0)\n",
        "docs = text_splitter.split_documents(documents)"
      ],
      "metadata": {
        "id": "NVaUsIZgkjRi"
      },
      "execution_count": 6,
      "outputs": []
    },
    {
      "cell_type": "code",
      "source": [
        "len(docs)"
      ],
      "metadata": {
        "colab": {
          "base_uri": "https://localhost:8080/"
        },
        "collapsed": true,
        "id": "wzkgTv5KmNMc",
        "outputId": "cc1395ef-77ed-4a6e-dceb-302b6b05baec"
      },
      "execution_count": 7,
      "outputs": [
        {
          "output_type": "execute_result",
          "data": {
            "text/plain": [
              "20"
            ]
          },
          "metadata": {},
          "execution_count": 7
        }
      ]
    },
    {
      "cell_type": "markdown",
      "source": [
        "# Initialize the embeddings model"
      ],
      "metadata": {
        "id": "jPmjUGN9lcQD"
      }
    },
    {
      "cell_type": "code",
      "source": [
        "embeddings = OpenAIEmbeddings() # using default embeddings model:text-embedding-ada-002\n",
        "embeddings"
      ],
      "metadata": {
        "colab": {
          "base_uri": "https://localhost:8080/"
        },
        "id": "INjF7pNClh0r",
        "outputId": "edc33553-02c1-4886-cbff-2cacd348e121"
      },
      "execution_count": 8,
      "outputs": [
        {
          "output_type": "execute_result",
          "data": {
            "text/plain": [
              "OpenAIEmbeddings(client=<openai.resources.embeddings.Embeddings object at 0x7caa305d9780>, async_client=<openai.resources.embeddings.AsyncEmbeddings object at 0x7ca9fda02f80>, model='text-embedding-ada-002', dimensions=None, deployment='text-embedding-ada-002', openai_api_version='', openai_api_base=None, openai_api_type='', openai_proxy='', embedding_ctx_length=8191, openai_api_key=SecretStr('**********'), openai_organization=None, allowed_special=None, disallowed_special=None, chunk_size=1000, max_retries=2, request_timeout=None, headers=None, tiktoken_enabled=True, tiktoken_model_name=None, show_progress_bar=False, model_kwargs={}, skip_empty=False, default_headers=None, default_query=None, retry_min_seconds=4, retry_max_seconds=20, http_client=None, http_async_client=None, check_embedding_ctx_length=True)"
            ]
          },
          "metadata": {},
          "execution_count": 8
        }
      ]
    },
    {
      "cell_type": "markdown",
      "source": [
        "# Store embeddings in the neo4j vector store"
      ],
      "metadata": {
        "id": "ziQzZbPjnfaz"
      }
    },
    {
      "cell_type": "code",
      "source": [
        "# The Neo4jVector Module will connect to Neo4j and create a vector index if needed.\n",
        "\n",
        "db = Neo4jVector.from_documents(\n",
        "    docs, OpenAIEmbeddings(), url=os.environ[\"NEO4J_URI\"], username=os.environ[\"NEO4J_USERNAME\"], password=os.environ[\"NEO4J_PASSWORD\"]\n",
        ")"
      ],
      "metadata": {
        "colab": {
          "base_uri": "https://localhost:8080/"
        },
        "id": "WjO_kYwdoDA-",
        "outputId": "1d96eb7d-6d40-46a0-f0ac-b76b1f6a718a"
      },
      "execution_count": 9,
      "outputs": [
        {
          "output_type": "stream",
          "name": "stderr",
          "text": [
            "WARNING:neo4j.notifications:Received notification from DBMS server: {severity: WARNING} {code: Neo.ClientNotification.Statement.FeatureDeprecationWarning} {category: DEPRECATION} {title: This feature is deprecated and will be removed in future versions.} {description: CALL subquery without a variable scope clause is now deprecated. Use CALL (row) { ... }} {position: line: 1, column: 21, offset: 20} for query: \"UNWIND $data AS row CALL { WITH row MERGE (c:`Chunk` {id: row.id}) WITH c, row CALL db.create.setNodeVectorProperty(c, 'embedding', row.embedding) SET c.`text` = row.text SET c += row.metadata } IN TRANSACTIONS OF 1000 ROWS \"\n"
          ]
        }
      ]
    },
    {
      "cell_type": "code",
      "source": [
        "db"
      ],
      "metadata": {
        "colab": {
          "base_uri": "https://localhost:8080/"
        },
        "id": "3c4ppQYwoj96",
        "outputId": "0d5146ce-39af-418a-8859-44984ed64e79"
      },
      "execution_count": 10,
      "outputs": [
        {
          "output_type": "execute_result",
          "data": {
            "text/plain": [
              "<langchain_community.vectorstores.neo4j_vector.Neo4jVector at 0x7caa305d9ae0>"
            ]
          },
          "metadata": {},
          "execution_count": 10
        }
      ]
    },
    {
      "cell_type": "code",
      "source": [
        "query = \"What are the trends in potato farming?\"\n",
        "docs_with_score = db.similarity_search_with_score(query, k=2)"
      ],
      "metadata": {
        "id": "NS2w26L5qSyX"
      },
      "execution_count": 11,
      "outputs": []
    },
    {
      "cell_type": "code",
      "source": [
        "for doc, score in docs_with_score:\n",
        "    print(\"-\" * 80)\n",
        "    print(\"Score: \", score)\n",
        "    print(doc.page_content)\n",
        "    print(\"-\" * 80)"
      ],
      "metadata": {
        "colab": {
          "base_uri": "https://localhost:8080/"
        },
        "collapsed": true,
        "id": "YUHKd6j5qYC-",
        "outputId": "138300df-0f8d-4b78-a74a-153d0d9d5092"
      },
      "execution_count": 21,
      "outputs": [
        {
          "output_type": "stream",
          "name": "stdout",
          "text": [
            "--------------------------------------------------------------------------------\n",
            "Score:  0.846527099609375\n",
            "\n",
            "Farming P otatoes In South Africa: What\n",
            "You Need To Know\n",
            "“My idea of hea ven is a gr eat big bak ed potat o and\n",
            "someone t o shar e it with. ”\n",
            "- Opr ah Winfr ey\n",
            "What's in this guide?\n",
            "1. Introduction: Farming potatoes in South Africa\n",
            "2. All about seed potatoes\n",
            "3. Growing potatoes in South Africa\n",
            "4. Challenges of potato farming\n",
            "5. Sustainable potato farming\n",
            "Chapter 1\n",
            "Introduction: F arming P otatoes in South Africa\n",
            "In South Africa, maiz e meal and br ead ar e the most commonly consumed sour ces of\n",
            "carbohy drates. Howe ver, South Africans ha ve eaten twice as many potat oes o ver the past\n",
            "decade compar ed to the decade befor e it, buo yed b y a gr owing middle class.\n",
            "--------------------------------------------------------------------------------\n",
            "--------------------------------------------------------------------------------\n",
            "Score:  0.8433074951171875\n",
            "Copyright © RegenZ (Pty) Ltd. All rights reserved. | Privacy Policy1. Choosing high-quality seed potat oes\n",
            "2. Adopting sustainable farming methods\n",
            "3. Prioritising soil health\n",
            "By making concer ted effor ts in accor dance with these principles, potat o farms in South Africa ha ve\n",
            "the oppor tunity t o impr ove product quality , pro\u0000tability and o verall sustainability . \n",
            "Navigation\n",
            "Home\n",
            "About\n",
            "Hybrid True Potato Seed\n",
            "Bulk Seed Potatoes\n",
            "Microbial Products\n",
            "IP Management\n",
            "Resources\n",
            "Contact details\n",
            "Email: info@r egenz.co.za\n",
            "O\u0000ce: +27 33 347 2893\n",
            "RegenZ (P ty) Ltd\n",
            "20, 3 Cascades Cr es, Chase V alley, Pietermaritzbur g, 3201\n",
            "Newsletter Sign-Up\n",
            "Full Name *\n",
            "Jeremy Clarkson\n",
            "Email *\n",
            "jerme y@gmail.com\n",
            "Submit\n",
            "--------------------------------------------------------------------------------\n"
          ]
        }
      ]
    },
    {
      "cell_type": "markdown",
      "source": [
        "# Working with existing vector store\n",
        "\n",
        "Above, we created a vectorstore from scratch. However, often times we want to work with an existing vectorstore. In order to do that, we can initialize it directly."
      ],
      "metadata": {
        "id": "h9mo9ECJrImo"
      }
    },
    {
      "cell_type": "code",
      "source": [
        "#index_name = \"vector\"  # default index name\n",
        "#\n",
        "#store = Neo4jVector.from_existing_index(\n",
        "#    OpenAIEmbeddings(),\n",
        "#    url=url,\n",
        "#    username=username,\n",
        "#    password=password,\n",
        "#    index_name=index_name,\n",
        "#)\n"
      ],
      "metadata": {
        "id": "vt4Or7NHrMU5"
      },
      "execution_count": null,
      "outputs": []
    },
    {
      "cell_type": "markdown",
      "source": [
        "# Working with existing graph store\n",
        "\n",
        "We can also initialize a vectorstore from existing graph using the from_existing_graph method. This method pulls relevant text information from the database, and calculates and stores the text embeddings back to the database."
      ],
      "metadata": {
        "id": "lL4DoF1isx90"
      }
    },
    {
      "cell_type": "code",
      "source": [
        "# First we create sample data in graph\n",
        "#store.query(\n",
        "#    \"CREATE (p:Person {name: 'Tomaz', location:'Slovenia', hobby:'Bicycle', age: 33})\"\n",
        "#)"
      ],
      "metadata": {
        "colab": {
          "base_uri": "https://localhost:8080/",
          "height": 193
        },
        "collapsed": true,
        "id": "HCeMwFdLs66p",
        "outputId": "f005c9de-9f55-4533-a723-4a2db1b9d47f"
      },
      "execution_count": 22,
      "outputs": [
        {
          "output_type": "error",
          "ename": "NameError",
          "evalue": "name 'store' is not defined",
          "traceback": [
            "\u001b[0;31m---------------------------------------------------------------------------\u001b[0m",
            "\u001b[0;31mNameError\u001b[0m                                 Traceback (most recent call last)",
            "\u001b[0;32m<ipython-input-22-ed1b9f1aa0d8>\u001b[0m in \u001b[0;36m<cell line: 2>\u001b[0;34m()\u001b[0m\n\u001b[1;32m      1\u001b[0m \u001b[0;31m# First we create sample data in graph\u001b[0m\u001b[0;34m\u001b[0m\u001b[0;34m\u001b[0m\u001b[0m\n\u001b[0;32m----> 2\u001b[0;31m store.query(\n\u001b[0m\u001b[1;32m      3\u001b[0m     \u001b[0;34m\"CREATE (p:Person {name: 'Tomaz', location:'Slovenia', hobby:'Bicycle', age: 33})\"\u001b[0m\u001b[0;34m\u001b[0m\u001b[0;34m\u001b[0m\u001b[0m\n\u001b[1;32m      4\u001b[0m )\n",
            "\u001b[0;31mNameError\u001b[0m: name 'store' is not defined"
          ]
        }
      ]
    },
    {
      "cell_type": "code",
      "source": [
        "# Now we initialize from existing graph\n",
        "#existing_graph = Neo4jVector.from_existing_graph(\n",
        "#    embedding=OpenAIEmbeddings(),\n",
        "#    url=url,\n",
        "#    username=username,\n",
        "#    password=password,\n",
        "#    index_name=\"person_index\",\n",
        "#    node_label=\"Person\",\n",
        "#    text_node_properties=[\"name\", \"location\"],\n",
        "#    embedding_node_property=\"embedding\",\n",
        "#)\n",
        "#result = existing_graph.similarity_search(\"Slovenia\", k=1)"
      ],
      "metadata": {
        "id": "zNWjCrxPyevY"
      },
      "execution_count": null,
      "outputs": []
    },
    {
      "cell_type": "markdown",
      "source": [
        "# Hybrid search (vector + keyword)\n",
        "Neo4j integrates both vector and keyword indexes, which allows you to use a hybrid search approach"
      ],
      "metadata": {
        "id": "qIGlrTAN2IUh"
      }
    },
    {
      "cell_type": "code",
      "source": [
        "# The Neo4jVector Module will connect to Neo4j and create a vector and keyword indices if needed.\n",
        "hybrid_db = Neo4jVector.from_documents(\n",
        "    docs,\n",
        "    OpenAIEmbeddings(),\n",
        "    url=os.environ[\"NEO4J_URI\"],\n",
        "    username=os.environ[\"NEO4J_USERNAME\"],\n",
        "    password=os.environ[\"NEO4J_PASSWORD\"],\n",
        "    search_type=\"hybrid\",\n",
        ")"
      ],
      "metadata": {
        "colab": {
          "base_uri": "https://localhost:8080/"
        },
        "id": "0HfWvXU32LqZ",
        "outputId": "f56da317-df65-4a27-fef4-e00a284ff5de"
      },
      "execution_count": 13,
      "outputs": [
        {
          "output_type": "stream",
          "name": "stderr",
          "text": [
            "WARNING:neo4j.notifications:Received notification from DBMS server: {severity: WARNING} {code: Neo.ClientNotification.Statement.FeatureDeprecationWarning} {category: DEPRECATION} {title: This feature is deprecated and will be removed in future versions.} {description: CALL subquery without a variable scope clause is now deprecated. Use CALL (row) { ... }} {position: line: 1, column: 21, offset: 20} for query: \"UNWIND $data AS row CALL { WITH row MERGE (c:`Chunk` {id: row.id}) WITH c, row CALL db.create.setNodeVectorProperty(c, 'embedding', row.embedding) SET c.`text` = row.text SET c += row.metadata } IN TRANSACTIONS OF 1000 ROWS \"\n"
          ]
        }
      ]
    },
    {
      "cell_type": "code",
      "source": [
        "hybrid_db"
      ],
      "metadata": {
        "colab": {
          "base_uri": "https://localhost:8080/"
        },
        "id": "LkXMdBxjKo3X",
        "outputId": "22521782-231e-4173-a100-c0443fb7c281"
      },
      "execution_count": 14,
      "outputs": [
        {
          "output_type": "execute_result",
          "data": {
            "text/plain": [
              "<langchain_community.vectorstores.neo4j_vector.Neo4jVector at 0x7ca9fdaf9b40>"
            ]
          },
          "metadata": {},
          "execution_count": 14
        }
      ]
    },
    {
      "cell_type": "markdown",
      "source": [
        "# Hybrid search from existing indexes\n",
        "To load the hybrid search from existing indexes, you have to provide both the vector and keyword indices"
      ],
      "metadata": {
        "id": "O6a3v8Wa3CxA"
      }
    },
    {
      "cell_type": "code",
      "source": [
        "#index_name = \"vector\"  # default index name\n",
        "#keyword_index_name = \"keyword\"  # default keyword index name\n",
        "#\n",
        "#store = Neo4jVector.from_existing_index(\n",
        "#    OpenAIEmbeddings(),\n",
        "#    url=url,\n",
        "#    username=username,\n",
        "#    password=password,\n",
        "#    index_name=index_name,\n",
        "#    keyword_index_name=keyword_index_name,\n",
        "#    search_type=\"hybrid\",\n",
        "#)"
      ],
      "metadata": {
        "colab": {
          "base_uri": "https://localhost:8080/"
        },
        "id": "fOnlf8lW2jgd",
        "outputId": "a3281247-35b5-457a-aa11-ab0608ff217c"
      },
      "execution_count": 24,
      "outputs": [
        {
          "output_type": "execute_result",
          "data": {
            "text/plain": [
              "<langchain_community.vectorstores.neo4j_vector.Neo4jVector at 0x7bfb4cd5bf40>"
            ]
          },
          "metadata": {},
          "execution_count": 24
        }
      ]
    },
    {
      "cell_type": "markdown",
      "source": [
        "#Retriever options\n",
        "This section shows how to use Neo4jVector as a retriever."
      ],
      "metadata": {
        "id": "P_8Eo7ib3WHq"
      }
    },
    {
      "cell_type": "code",
      "source": [
        "retriever = hybrid_db.as_retriever()\n",
        "retriever.invoke(query)[0]"
      ],
      "metadata": {
        "colab": {
          "base_uri": "https://localhost:8080/"
        },
        "collapsed": true,
        "id": "GJRalyfR3YE1",
        "outputId": "2fa39b91-a9bb-45c8-f71a-f5253a6ce901"
      },
      "execution_count": 15,
      "outputs": [
        {
          "output_type": "stream",
          "name": "stderr",
          "text": [
            "WARNING:neo4j.notifications:Received notification from DBMS server: {severity: WARNING} {code: Neo.ClientNotification.Statement.FeatureDeprecationWarning} {category: DEPRECATION} {title: This feature is deprecated and will be removed in future versions.} {description: CALL subquery without a variable scope clause is now deprecated. Use CALL () { ... }} {position: line: 1, column: 1, offset: 0} for query: 'CALL { CALL db.index.vector.queryNodes($index, $k, $embedding) YIELD node, score WITH collect({node:node, score:score}) AS nodes, max(score) AS max UNWIND nodes AS n RETURN n.node AS node, (n.score / max) AS score UNION CALL db.index.fulltext.queryNodes($keyword_index, $query, {limit: $k}) YIELD node, score WITH collect({node:node, score:score}) AS nodes, max(score) AS max UNWIND nodes AS n RETURN n.node AS node, (n.score / max) AS score } WITH node, max(score) AS score ORDER BY score DESC LIMIT $k RETURN node.`text` AS text, score, node {.*, `text`: Null, `embedding`: Null, id: Null } AS metadata'\n"
          ]
        },
        {
          "output_type": "execute_result",
          "data": {
            "text/plain": [
              "Document(metadata={'source': '/content/Farming Potatoes in South Africa_ What You Need to Know.pdf', 'page': 15}, page_content='The lapse of the anti-dumping duties t ook place between Januar y and Ma y 2021. During that\\ntime, 11.8 million kilograms of fr ozen fries wer e impor ted t o South Africa. This is 64.71% mor e\\nthan Ma y 2020, and 199.19% mor e than Ma y 2019.\\xa0\\nAlready , local farmers and pr oducers ha ve had t o deal with the negativ e \\x00nancial impact of the\\nCOVID-19 pandemic and other pr evailing socio-economic and mark et conditions. Now , further\\nthreats ma y for ce some local gr owers and pr ocessors out of business.\\nConsumers ha ve a r ole t o pla y\\xa0\\nTo combat the eff ects of agricultur al dumping, consumers need t o activ ely suppor t the local\\nagricultur al sect or by reading the packaging and choosing South African potat o products.\\nTher e are also ecological adv antages t o suppor ting South African spuds, including a smaller\\ncarbon footprint and the knowledge that locally-pr oduced pr oducts ar e also typically link ed to\\nmore envir onmentally friendly pr actices.\\nIt’s also wor th considering that agricultur al dumping usually r esults fr om a high v olume of\\nsurplus potat o products that ar e not needed b y the countries of origin. But these ex cesses often\\nwork in cy cles—once the st ocks ha ve been depleted, the impor ts ma y dry up, causing periodic\\nshor tfalls and price spik es.\\xa0\\nRegenZ’ s Justin Platt sa ys: “Dumping is bad news for the farmer and good news for the\\nconsumer—if the prices \\x00lter thr ough, which the y often do not! The middlemen (such as the\\nimpor ter or chain st ore) ar e usually ar e the main winners. Dumping destr oys businesses, but the\\nGovernment only r eally looks at the shor t term bene\\x00t t o the consumer , especially just befor e an\\nelection. Howe ver, it is wor th bearing in mind that our South African pr ocessing industr y only\\nuses about 20% of potat o product gr own, so the 80% used for table or fr esh pr oducts is not\\naffected. ”\\nChapter 5\\nSustainable Potato Farming\\nGood agricultur al management is the k ey to successful and sustainable potat o farming in South Africa. F armers need t o understand\\nthe cr op’s requir ements and constr aints t o ensur e cost-eff ectiv e production of the highest quality under speci\\x00c conditions. Adopting\\nsustainable farming pr actices can help farmers achie ve pro\\x00tability and longe vity.\\nCrane F riendly\\nPotato Trial Data\\nComing Soon\\nSoil Health')"
            ]
          },
          "metadata": {},
          "execution_count": 15
        }
      ]
    },
    {
      "cell_type": "markdown",
      "source": [
        "#Question Answering with Sources\n",
        "This section goes over how to do question-answering with sources over an Index. It does this by using the RetrievalQAWithSourcesChain, which does the lookup of the documents from an Index."
      ],
      "metadata": {
        "id": "ruwz2QY-4S48"
      }
    },
    {
      "cell_type": "code",
      "source": [
        "from langchain.chains import RetrievalQAWithSourcesChain\n",
        "from langchain_openai import ChatOpenAI"
      ],
      "metadata": {
        "id": "a19v_6tw4U3O"
      },
      "execution_count": 16,
      "outputs": []
    },
    {
      "cell_type": "code",
      "source": [
        "chain = RetrievalQAWithSourcesChain.from_chain_type(\n",
        "    ChatOpenAI(temperature=0), chain_type=\"stuff\", retriever=retriever\n",
        ")"
      ],
      "metadata": {
        "id": "BFm9ZJPQ4iMe"
      },
      "execution_count": 32,
      "outputs": []
    },
    {
      "cell_type": "code",
      "source": [
        "chain.invoke(\n",
        "    {\"question\": \"what is dumping and how can one avoid agricultural dumping?\"},\n",
        "    return_only_outputs=False,\n",
        ")"
      ],
      "metadata": {
        "colab": {
          "base_uri": "https://localhost:8080/"
        },
        "id": "0raZwQfI4rff",
        "outputId": "6904886f-ad0c-4195-83ae-ef1b1d165cdf"
      },
      "execution_count": 44,
      "outputs": [
        {
          "output_type": "stream",
          "name": "stderr",
          "text": [
            "WARNING:neo4j.notifications:Received notification from DBMS server: {severity: WARNING} {code: Neo.ClientNotification.Statement.FeatureDeprecationWarning} {category: DEPRECATION} {title: This feature is deprecated and will be removed in future versions.} {description: CALL subquery without a variable scope clause is now deprecated. Use CALL () { ... }} {position: line: 1, column: 1, offset: 0} for query: 'CALL { CALL db.index.vector.queryNodes($index, $k, $embedding) YIELD node, score WITH collect({node:node, score:score}) AS nodes, max(score) AS max UNWIND nodes AS n RETURN n.node AS node, (n.score / max) AS score UNION CALL db.index.fulltext.queryNodes($keyword_index, $query, {limit: $k}) YIELD node, score WITH collect({node:node, score:score}) AS nodes, max(score) AS max UNWIND nodes AS n RETURN n.node AS node, (n.score / max) AS score } WITH node, max(score) AS score ORDER BY score DESC LIMIT $k RETURN node.`text` AS text, score, node {.*, `text`: Null, `embedding`: Null, id: Null } AS metadata'\n"
          ]
        },
        {
          "output_type": "execute_result",
          "data": {
            "text/plain": [
              "{'question': 'what is dumping and how can one avoid agricultural dumping?',\n",
              " 'answer': 'Agricultural dumping refers to the practice of exporting commodities at prices well below the cost of production. To avoid agricultural dumping, consumers can actively support the local agricultural sector by choosing South African potato products. Additionally, sustainable farming practices, such as composting, precision farming, and water management, can help farmers achieve profitability and longevity, ultimately reducing the reliance on toxic chemicals and improving environmental outcomes.\\n',\n",
              " 'sources': '/content/Farming Potatoes in South Africa_ What You Need to Know.pdf'}"
            ]
          },
          "metadata": {},
          "execution_count": 44
        }
      ]
    },
    {
      "source": [
        "result = chain.invoke(\n",
        "    {\"question\": \"what is dumping and how can one avoid agricultural dumping?\"},\n",
        "    return_only_outputs=False,\n",
        ")\n",
        "answer = result['answer']\n",
        "sources = result['sources']\n",
        "\n",
        "print(f\"Answer: {answer}\\nSources: {sources}\")"
      ],
      "cell_type": "code",
      "metadata": {
        "colab": {
          "base_uri": "https://localhost:8080/"
        },
        "id": "EA86pTildkP7",
        "outputId": "ebc05835-2cda-4de4-e069-f1c3b4c22fad"
      },
      "execution_count": 43,
      "outputs": [
        {
          "output_type": "stream",
          "name": "stderr",
          "text": [
            "WARNING:neo4j.notifications:Received notification from DBMS server: {severity: WARNING} {code: Neo.ClientNotification.Statement.FeatureDeprecationWarning} {category: DEPRECATION} {title: This feature is deprecated and will be removed in future versions.} {description: CALL subquery without a variable scope clause is now deprecated. Use CALL () { ... }} {position: line: 1, column: 1, offset: 0} for query: 'CALL { CALL db.index.vector.queryNodes($index, $k, $embedding) YIELD node, score WITH collect({node:node, score:score}) AS nodes, max(score) AS max UNWIND nodes AS n RETURN n.node AS node, (n.score / max) AS score UNION CALL db.index.fulltext.queryNodes($keyword_index, $query, {limit: $k}) YIELD node, score WITH collect({node:node, score:score}) AS nodes, max(score) AS max UNWIND nodes AS n RETURN n.node AS node, (n.score / max) AS score } WITH node, max(score) AS score ORDER BY score DESC LIMIT $k RETURN node.`text` AS text, score, node {.*, `text`: Null, `embedding`: Null, id: Null } AS metadata'\n"
          ]
        },
        {
          "output_type": "stream",
          "name": "stdout",
          "text": [
            "Answer: Agricultural dumping refers to the practice of exporting commodities at prices well below the cost of production. To avoid agricultural dumping, consumers can actively support the local agricultural sector by choosing South African potato products. Additionally, sustainable farming practices, such as composting, precision farming, and water management, can help farmers achieve profitability and longevity, ultimately reducing the reliance on toxic chemicals and improving environmental outcomes.\n",
            "\n",
            "Sources: /content/Farming Potatoes in South Africa_ What You Need to Know.pdf\n"
          ]
        }
      ]
    }
  ]
}