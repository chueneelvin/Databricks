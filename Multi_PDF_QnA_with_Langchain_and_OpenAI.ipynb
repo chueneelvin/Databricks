{
  "cells": [
    {
      "cell_type": "markdown",
      "metadata": {
        "id": "view-in-github",
        "colab_type": "text"
      },
      "source": [
        "<a href=\"https://colab.research.google.com/github/chueneelvin/Databricks/blob/main/Multi_PDF_QnA_with_Langchain_and_OpenAI.ipynb\" target=\"_parent\"><img src=\"https://colab.research.google.com/assets/colab-badge.svg\" alt=\"Open In Colab\"/></a>"
      ]
    },
    {
      "cell_type": "markdown",
      "source": [
        "# Install required packages"
      ],
      "metadata": {
        "id": "ty-KHFWkGZ5D"
      }
    },
    {
      "cell_type": "code",
      "execution_count": 37,
      "metadata": {
        "id": "zqSE2D64U0Fr",
        "collapsed": true,
        "colab": {
          "base_uri": "https://localhost:8080/"
        },
        "outputId": "47f2753c-987b-4129-b5f9-4a5c8566d447"
      },
      "outputs": [
        {
          "output_type": "stream",
          "name": "stdout",
          "text": [
            "  Preparing metadata (setup.py) ... \u001b[?25l\u001b[?25hdone\n",
            "\u001b[?25l     \u001b[90m━━━━━━━━━━━━━━━━━━━━━━━━━━━━━━━━━━━━━━━━\u001b[0m \u001b[32m0.0/4.2 MB\u001b[0m \u001b[31m?\u001b[0m eta \u001b[36m-:--:--\u001b[0m\r\u001b[2K     \u001b[91m━━━━━━━━━━━━━━━━━━━━━━━━━━━━━━━━━\u001b[0m\u001b[90m╺\u001b[0m\u001b[90m━━━━━━\u001b[0m \u001b[32m3.5/4.2 MB\u001b[0m \u001b[31m105.9 MB/s\u001b[0m eta \u001b[36m0:00:01\u001b[0m\r\u001b[2K     \u001b[91m━━━━━━━━━━━━━━━━━━━━━━━━━━━━━━━━━━━━━━━\u001b[0m\u001b[91m╸\u001b[0m \u001b[32m4.2/4.2 MB\u001b[0m \u001b[31m107.7 MB/s\u001b[0m eta \u001b[36m0:00:01\u001b[0m\r\u001b[2K     \u001b[90m━━━━━━━━━━━━━━━━━━━━━━━━━━━━━━━━━━━━━━━━\u001b[0m \u001b[32m4.2/4.2 MB\u001b[0m \u001b[31m57.5 MB/s\u001b[0m eta \u001b[36m0:00:00\u001b[0m\n",
            "\u001b[?25h  Preparing metadata (setup.py) ... \u001b[?25l\u001b[?25hdone\n",
            "\u001b[2K     \u001b[90m━━━━━━━━━━━━━━━━━━━━━━━━━━━━━━━━━━━━━━━━\u001b[0m \u001b[32m5.6/5.6 MB\u001b[0m \u001b[31m89.3 MB/s\u001b[0m eta \u001b[36m0:00:00\u001b[0m\n",
            "\u001b[?25h  Preparing metadata (setup.py) ... \u001b[?25l\u001b[?25hdone\n",
            "\u001b[2K     \u001b[90m━━━━━━━━━━━━━━━━━━━━━━━━━━━━━━━━━━━━━━━━\u001b[0m \u001b[32m50.5/50.5 kB\u001b[0m \u001b[31m3.2 MB/s\u001b[0m eta \u001b[36m0:00:00\u001b[0m\n",
            "\u001b[?25h  Preparing metadata (setup.py) ... \u001b[?25l\u001b[?25hdone\n",
            "\u001b[2K     \u001b[90m━━━━━━━━━━━━━━━━━━━━━━━━━━━━━━━━━━━━━━━━\u001b[0m \u001b[32m59.1/59.1 kB\u001b[0m \u001b[31m3.8 MB/s\u001b[0m eta \u001b[36m0:00:00\u001b[0m\n",
            "\u001b[?25h  Preparing metadata (setup.py) ... \u001b[?25l\u001b[?25hdone\n",
            "\u001b[2K   \u001b[90m━━━━━━━━━━━━━━━━━━━━━━━━━━━━━━━━━━━━━━━━\u001b[0m \u001b[32m18.8/18.8 MB\u001b[0m \u001b[31m15.0 MB/s\u001b[0m eta \u001b[36m0:00:00\u001b[0m\n",
            "\u001b[2K   \u001b[90m━━━━━━━━━━━━━━━━━━━━━━━━━━━━━━━━━━━━━━━━\u001b[0m \u001b[32m79.2/79.2 kB\u001b[0m \u001b[31m4.7 MB/s\u001b[0m eta \u001b[36m0:00:00\u001b[0m\n",
            "\u001b[2K   \u001b[90m━━━━━━━━━━━━━━━━━━━━━━━━━━━━━━━━━━━━━━━━\u001b[0m \u001b[32m62.7/62.7 kB\u001b[0m \u001b[31m4.0 MB/s\u001b[0m eta \u001b[36m0:00:00\u001b[0m\n",
            "\u001b[2K   \u001b[90m━━━━━━━━━━━━━━━━━━━━━━━━━━━━━━━━━━━━━━━━\u001b[0m \u001b[32m45.7/45.7 kB\u001b[0m \u001b[31m2.6 MB/s\u001b[0m eta \u001b[36m0:00:00\u001b[0m\n",
            "\u001b[2K   \u001b[90m━━━━━━━━━━━━━━━━━━━━━━━━━━━━━━━━━━━━━━━━\u001b[0m \u001b[32m286.1/286.1 kB\u001b[0m \u001b[31m16.4 MB/s\u001b[0m eta \u001b[36m0:00:00\u001b[0m\n",
            "\u001b[2K   \u001b[90m━━━━━━━━━━━━━━━━━━━━━━━━━━━━━━━━━━━━━━━━\u001b[0m \u001b[32m143.0/143.0 kB\u001b[0m \u001b[31m9.4 MB/s\u001b[0m eta \u001b[36m0:00:00\u001b[0m\n",
            "\u001b[2K   \u001b[90m━━━━━━━━━━━━━━━━━━━━━━━━━━━━━━━━━━━━━━━━\u001b[0m \u001b[32m201.8/201.8 kB\u001b[0m \u001b[31m12.1 MB/s\u001b[0m eta \u001b[36m0:00:00\u001b[0m\n",
            "\u001b[2K   \u001b[90m━━━━━━━━━━━━━━━━━━━━━━━━━━━━━━━━━━━━━━━━\u001b[0m \u001b[32m3.6/3.6 MB\u001b[0m \u001b[31m60.1 MB/s\u001b[0m eta \u001b[36m0:00:00\u001b[0m\n",
            "\u001b[2K   \u001b[90m━━━━━━━━━━━━━━━━━━━━━━━━━━━━━━━━━━━━━━━━\u001b[0m \u001b[32m92.1/92.1 kB\u001b[0m \u001b[31m5.9 MB/s\u001b[0m eta \u001b[36m0:00:00\u001b[0m\n",
            "\u001b[2K   \u001b[90m━━━━━━━━━━━━━━━━━━━━━━━━━━━━━━━━━━━━━━━━\u001b[0m \u001b[32m60.5/60.5 MB\u001b[0m \u001b[31m8.4 MB/s\u001b[0m eta \u001b[36m0:00:00\u001b[0m\n",
            "\u001b[2K   \u001b[90m━━━━━━━━━━━━━━━━━━━━━━━━━━━━━━━━━━━━━━━━\u001b[0m \u001b[32m40.7/40.7 kB\u001b[0m \u001b[31m2.3 MB/s\u001b[0m eta \u001b[36m0:00:00\u001b[0m\n",
            "\u001b[2K   \u001b[90m━━━━━━━━━━━━━━━━━━━━━━━━━━━━━━━━━━━━━━━━\u001b[0m \u001b[32m13.8/13.8 MB\u001b[0m \u001b[31m84.3 MB/s\u001b[0m eta \u001b[36m0:00:00\u001b[0m\n",
            "\u001b[2K   \u001b[90m━━━━━━━━━━━━━━━━━━━━━━━━━━━━━━━━━━━━━━━━\u001b[0m \u001b[32m9.6/9.6 MB\u001b[0m \u001b[31m83.0 MB/s\u001b[0m eta \u001b[36m0:00:00\u001b[0m\n",
            "\u001b[2K   \u001b[90m━━━━━━━━━━━━━━━━━━━━━━━━━━━━━━━━━━━━━━━━\u001b[0m \u001b[32m36.3/36.3 MB\u001b[0m \u001b[31m12.6 MB/s\u001b[0m eta \u001b[36m0:00:00\u001b[0m\n",
            "\u001b[2K   \u001b[90m━━━━━━━━━━━━━━━━━━━━━━━━━━━━━━━━━━━━━━━━\u001b[0m \u001b[32m67.0/67.0 kB\u001b[0m \u001b[31m3.7 MB/s\u001b[0m eta \u001b[36m0:00:00\u001b[0m\n",
            "\u001b[2K   \u001b[90m━━━━━━━━━━━━━━━━━━━━━━━━━━━━━━━━━━━━━━━━\u001b[0m \u001b[32m53.9/53.9 kB\u001b[0m \u001b[31m3.2 MB/s\u001b[0m eta \u001b[36m0:00:00\u001b[0m\n",
            "\u001b[2K   \u001b[90m━━━━━━━━━━━━━━━━━━━━━━━━━━━━━━━━━━━━━━━━\u001b[0m \u001b[32m59.5/59.5 kB\u001b[0m \u001b[31m3.8 MB/s\u001b[0m eta \u001b[36m0:00:00\u001b[0m\n",
            "\u001b[2K   \u001b[90m━━━━━━━━━━━━━━━━━━━━━━━━━━━━━━━━━━━━━━━━\u001b[0m \u001b[32m200.3/200.3 MB\u001b[0m \u001b[31m3.7 MB/s\u001b[0m eta \u001b[36m0:00:00\u001b[0m\n",
            "\u001b[2K   \u001b[90m━━━━━━━━━━━━━━━━━━━━━━━━━━━━━━━━━━━━━━━━\u001b[0m \u001b[32m103.3/103.3 kB\u001b[0m \u001b[31m6.8 MB/s\u001b[0m eta \u001b[36m0:00:00\u001b[0m\n",
            "\u001b[2K   \u001b[90m━━━━━━━━━━━━━━━━━━━━━━━━━━━━━━━━━━━━━━━━\u001b[0m \u001b[32m3.5/3.5 MB\u001b[0m \u001b[31m58.1 MB/s\u001b[0m eta \u001b[36m0:00:00\u001b[0m\n",
            "\u001b[2K   \u001b[90m━━━━━━━━━━━━━━━━━━━━━━━━━━━━━━━━━━━━━━━━\u001b[0m \u001b[32m15.9/15.9 MB\u001b[0m \u001b[31m48.0 MB/s\u001b[0m eta \u001b[36m0:00:00\u001b[0m\n",
            "\u001b[2K   \u001b[90m━━━━━━━━━━━━━━━━━━━━━━━━━━━━━━━━━━━━━━━━\u001b[0m \u001b[32m4.5/4.5 MB\u001b[0m \u001b[31m63.5 MB/s\u001b[0m eta \u001b[36m0:00:00\u001b[0m\n",
            "\u001b[2K   \u001b[90m━━━━━━━━━━━━━━━━━━━━━━━━━━━━━━━━━━━━━━━━\u001b[0m \u001b[32m159.9/159.9 kB\u001b[0m \u001b[31m9.8 MB/s\u001b[0m eta \u001b[36m0:00:00\u001b[0m\n",
            "\u001b[2K   \u001b[90m━━━━━━━━━━━━━━━━━━━━━━━━━━━━━━━━━━━━━━━━\u001b[0m \u001b[32m45.5/45.5 kB\u001b[0m \u001b[31m2.8 MB/s\u001b[0m eta \u001b[36m0:00:00\u001b[0m\n",
            "\u001b[?25h  Building wheel for pdf2image (setup.py) ... \u001b[?25l\u001b[?25hdone\n",
            "  Building wheel for pylzma (setup.py) ... \u001b[?25l\u001b[?25hdone\n",
            "  Building wheel for python-docx (setup.py) ... \u001b[?25l\u001b[?25hdone\n",
            "  Building wheel for python-Levenshtein (setup.py) ... \u001b[?25l\u001b[?25hdone\n",
            "  Building wheel for wget (setup.py) ... \u001b[?25l\u001b[?25hdone\n"
          ]
        }
      ],
      "source": [
        "!pip -q install langchain pypdf langchain-community langchain-text-splitters langchain_experimental langchain_openai langchain-chroma langchain-pinecone python-dotenv chromadb faiss-cpu unstructured[pdf] poppler-utils langsmith tesseract dedoc"
      ]
    },
    {
      "cell_type": "markdown",
      "source": [
        "# Importing the dependecies"
      ],
      "metadata": {
        "id": "qsLJSPl0GeiD"
      }
    },
    {
      "cell_type": "code",
      "execution_count": 2,
      "metadata": {
        "id": "NlZpWCUdWPUO"
      },
      "outputs": [],
      "source": [
        "from langchain_community.document_loaders import PyPDFLoader        # Loading the docuements\n",
        "from langchain_community.document_loaders import DirectoryLoader   # Loading the documents from a directory\n",
        "from langchain_text_splitters import RecursiveCharacterTextSplitter # Text chunks using recursive spliter\n",
        "from langchain_experimental.text_splitter import SemanticChunker    # Semantic text chuncking\n",
        "from langchain_openai import OpenAIEmbeddings                       # openai embedding models\n",
        "from langchain_chroma import Chroma                                 # vector database Chromadb\n",
        "from langchain.vectorstores import Pinecone                  # vector database Pinecone\n",
        "from langchain_community.vectorstores import FAISS\n",
        "from langchain.chains.question_answering import load_qa_chain\n",
        "from langchain_openai import OpenAI\n",
        "import pinecone\n",
        "import os\n",
        "from langchain.chains import StuffDocumentsChain\n"
      ]
    },
    {
      "cell_type": "markdown",
      "source": [
        "# Loading the data"
      ],
      "metadata": {
        "id": "Q5WAramKGksg"
      }
    },
    {
      "cell_type": "markdown",
      "source": [
        "## loading files (pdf)"
      ],
      "metadata": {
        "id": "-V7vjI45119P"
      }
    },
    {
      "cell_type": "code",
      "source": [
        "from langchain_community.document_loaders import DirectoryLoader, PyPDFLoader, TextLoader, BSHTMLLoader, CSVLoader, DedocFileLoader\n",
        "\n",
        "# Define a dictionary to map file extensions to their respective loader classes\n",
        "loader_classes = {\n",
        "    \"*.pdf\": PyPDFLoader,\n",
        "    \"*.txt\": TextLoader,\n",
        "    \"*.html\": BSHTMLLoader,\n",
        "    \"*.csv\": CSVLoader,\n",
        "    \"*.docx\": DedocFileLoader\n",
        "}\n",
        "\n",
        "# Function to load files based on their extensions and store them in a variable\n",
        "def load_files(directory):\n",
        "    loaded_files = []\n",
        "    for pattern, loader_cls in loader_classes.items():\n",
        "        loader = DirectoryLoader(directory, glob=pattern, loader_cls=loader_cls)\n",
        "        # Append the loaded files to the list\n",
        "        loaded_files.extend(loader.load())\n",
        "    return loaded_files\n",
        "\n",
        "# Load files from the specified directory and store them in a variable\n",
        "docs = load_files('/content/pdfs')\n",
        "\n",
        "# Now `files` contains all the loaded files\n",
        "len(docs)\n"
      ],
      "metadata": {
        "colab": {
          "base_uri": "https://localhost:8080/"
        },
        "id": "WeUgFYB0QyC_",
        "outputId": "5b839966-5fab-4d0d-8a59-40b95f4b72f1"
      },
      "execution_count": 61,
      "outputs": [
        {
          "output_type": "execute_result",
          "data": {
            "text/plain": [
              "1024"
            ]
          },
          "metadata": {},
          "execution_count": 61
        }
      ]
    },
    {
      "cell_type": "code",
      "source": [
        "docs[1003]"
      ],
      "metadata": {
        "colab": {
          "base_uri": "https://localhost:8080/"
        },
        "id": "_2R5vqWcRBJH",
        "outputId": "7668341d-df44-4556-fc03-443d4396f532"
      },
      "execution_count": 64,
      "outputs": [
        {
          "output_type": "execute_result",
          "data": {
            "text/plain": [
              "Document(metadata={'source': '/content/pdfs/df_extracted (version 1).csv', 'row': 982}, page_content='tweet_id: ID_1110949565694398464,\"\\'nebraska\\', \\'nebraska\\'\"\\nlocation: None')"
            ]
          },
          "metadata": {},
          "execution_count": 64
        }
      ]
    },
    {
      "cell_type": "markdown",
      "metadata": {
        "id": "yCVU4bCMb-E6"
      },
      "source": [
        "# Text Chunking"
      ]
    },
    {
      "cell_type": "markdown",
      "metadata": {
        "id": "afz0t2GXcNNj"
      },
      "source": [
        "## Recursive chuncking"
      ]
    },
    {
      "cell_type": "code",
      "execution_count": 65,
      "metadata": {
        "colab": {
          "base_uri": "https://localhost:8080/"
        },
        "id": "jPjv-lC7dQnn",
        "outputId": "cb995308-60c0-45c0-f9dc-91b64bfafdff"
      },
      "outputs": [
        {
          "output_type": "execute_result",
          "data": {
            "text/plain": [
              "1062"
            ]
          },
          "metadata": {},
          "execution_count": 65
        }
      ],
      "source": [
        "text_splitter = RecursiveCharacterTextSplitter(\n",
        "    chunk_size=500,\n",
        "    chunk_overlap=15\n",
        ")\n",
        "\n",
        "chunked_docs = text_splitter.split_documents(docs)\n",
        "len(chunked_docs)"
      ]
    },
    {
      "cell_type": "code",
      "source": [
        "chunked_docs[:3]"
      ],
      "metadata": {
        "colab": {
          "base_uri": "https://localhost:8080/"
        },
        "collapsed": true,
        "id": "7kVAaiMdzJMH",
        "outputId": "43f5a69c-9599-47eb-8870-f8e0e5bf6fcf"
      },
      "execution_count": 66,
      "outputs": [
        {
          "output_type": "execute_result",
          "data": {
            "text/plain": [
              "[Document(metadata={'source': '/content/pdfs/Farming Potatoes in South Africa_ What You Need to Know.pdf', 'page': 0}, page_content=\"\\uf1bf\\nFarming P otatoes In South Africa: What\\nYou Need To Know\\n“My idea of hea ven is a gr eat big bak ed potat o and\\nsomeone t o shar e it with. ”\\n- Opr ah Winfr ey\\nWhat's in this guide?\\n1. Introduction: Farming potatoes in South Africa\\n2. All about seed potatoes\\n3. Growing potatoes in South Africa\\n4. Challenges of potato farming\\n5. Sustainable potato farming\\nChapter 1\\nIntroduction: F arming P otatoes in South Africa\"),\n",
              " Document(metadata={'source': '/content/pdfs/Farming Potatoes in South Africa_ What You Need to Know.pdf', 'page': 0}, page_content='In South Africa, maiz e meal and br ead ar e the most commonly consumed sour ces of\\ncarbohy drates. Howe ver, South Africans ha ve eaten twice as many potat oes o ver the past\\ndecade compar ed to the decade befor e it, buo yed b y a gr owing middle class.'),\n",
              " Document(metadata={'source': '/content/pdfs/Farming Potatoes in South Africa_ What You Need to Know.pdf', 'page': 1}, page_content='This incr ease in consumption has occurr ed despite the rising input costs, unstable weather\\nconditions and, mor e recently , the o verall uncer tainty br ought about b y CO VID-19.\\nThe role of potatoes in the food system\\n“What I sa y is that, if a man r eally lik es potat oes, he must\\nbe a pr etty decent sor t of f ellow .”\\n- A. A. Milne\\nFresh potat oes ha ve remained one of the world’ s favourite foods for thousands of y ears. In his')]"
            ]
          },
          "metadata": {},
          "execution_count": 66
        }
      ]
    },
    {
      "cell_type": "markdown",
      "metadata": {
        "id": "0KYUxeUGcIQJ"
      },
      "source": [
        "## Semantic chunking"
      ]
    },
    {
      "cell_type": "code",
      "execution_count": null,
      "metadata": {
        "id": "eeETd7fijmrO"
      },
      "outputs": [],
      "source": [
        "from langchain_experimental.text_splitter import SemanticChunker\n",
        "\n",
        "text_splitter1 = SemanticChunker(OpenAIEmbeddings())\n",
        "text_splitter1"
      ]
    },
    {
      "cell_type": "code",
      "execution_count": null,
      "metadata": {
        "id": "c96rowmskPOh"
      },
      "outputs": [],
      "source": [
        "semantic_chunk_docs = text_splitter1.split_documents(docs)\n",
        "semantic_chunk_docs[:3]"
      ]
    },
    {
      "cell_type": "code",
      "source": [
        "len(semantic_chunk_docs)"
      ],
      "metadata": {
        "id": "ROJDwMUB7Xgc"
      },
      "execution_count": null,
      "outputs": []
    },
    {
      "cell_type": "markdown",
      "metadata": {
        "id": "Q2XAMgQFsAzL"
      },
      "source": [
        "# Convert chunks into embeddings and store into FAISS vector store"
      ]
    },
    {
      "cell_type": "code",
      "source": [
        "# Get the API key from user data\n",
        "from google.colab import userdata\n",
        "os.environ['OPENAI_API_KEY'] = userdata.get('OPENAI_API_KEY')\n",
        "os.environ['PINECONE_API_KEY'] = userdata.get('PINECONE_API_KEY')"
      ],
      "metadata": {
        "id": "_CqmEONY1bFL"
      },
      "execution_count": 67,
      "outputs": []
    },
    {
      "cell_type": "code",
      "execution_count": 68,
      "metadata": {
        "colab": {
          "base_uri": "https://localhost:8080/"
        },
        "id": "stJDkpM9r_y8",
        "outputId": "973dd381-3226-4087-f512-5aede6ec2c31"
      },
      "outputs": [
        {
          "output_type": "execute_result",
          "data": {
            "text/plain": [
              "OpenAIEmbeddings(client=<openai.resources.embeddings.Embeddings object at 0x7cd8662d64d0>, async_client=<openai.resources.embeddings.AsyncEmbeddings object at 0x7cd84354fa90>, model='text-embedding-3-small', dimensions=None, deployment='text-embedding-ada-002', openai_api_version='', openai_api_base=None, openai_api_type='', openai_proxy='', embedding_ctx_length=8191, openai_api_key=SecretStr('**********'), openai_organization=None, allowed_special=None, disallowed_special=None, chunk_size=1000, max_retries=2, request_timeout=None, headers=None, tiktoken_enabled=True, tiktoken_model_name=None, show_progress_bar=False, model_kwargs={}, skip_empty=False, default_headers=None, default_query=None, retry_min_seconds=4, retry_max_seconds=20, http_client=None, http_async_client=None, check_embedding_ctx_length=True)"
            ]
          },
          "metadata": {},
          "execution_count": 68
        }
      ],
      "source": [
        "# Initialising the embeddings model\n",
        "\n",
        "embeddings_model = OpenAIEmbeddings(model = \"text-embedding-3-small\")\n",
        "embeddings_model"
      ]
    },
    {
      "cell_type": "markdown",
      "source": [
        "## Recursive Character Splitting for Chunks"
      ],
      "metadata": {
        "id": "f0RqhlsN-ELT"
      }
    },
    {
      "cell_type": "code",
      "source": [
        "faiss_db = FAISS.from_documents(chunked_docs, embeddings_model)\n",
        "faiss_db"
      ],
      "metadata": {
        "colab": {
          "base_uri": "https://localhost:8080/"
        },
        "id": "AaLSREob8UDW",
        "outputId": "c9d9e054-fa21-46f0-f3fe-c32d8a15db5a"
      },
      "execution_count": 69,
      "outputs": [
        {
          "output_type": "execute_result",
          "data": {
            "text/plain": [
              "<langchain_community.vectorstores.faiss.FAISS at 0x7cd84354dff0>"
            ]
          },
          "metadata": {},
          "execution_count": 69
        }
      ]
    },
    {
      "cell_type": "code",
      "source": [
        "chain = load_qa_chain(OpenAI(), chain_type=\"stuff\")\n",
        "#from langchain.prompts import PromptTemplate\n",
        "#from langchain.chains import LLMChain\n",
        "#llm = OpenAI()\n",
        "#chain = StuffDocumentsChain(llm_chain = LLMChain(llm=llm, prompt=PromptTemplate.from_template(\"Summarize this content: {context}\")), verbose=True)\n",
        "#chain"
      ],
      "metadata": {
        "collapsed": true,
        "id": "YhaHkGyOSaJm"
      },
      "execution_count": 70,
      "outputs": []
    },
    {
      "source": [
        "query= \"what do i need to know about potato farming as a new farmer?\"\n",
        "results = faiss_db.similarity_search(query)\n",
        "chain.invoke({'input_documents': results, 'question': query})['output_text']"
      ],
      "cell_type": "code",
      "metadata": {
        "colab": {
          "base_uri": "https://localhost:8080/",
          "height": 104
        },
        "id": "nzsQ8zKZFJkB",
        "outputId": "1aaeac41-1bac-4841-9e27-89e5b4c1e55e"
      },
      "execution_count": 74,
      "outputs": [
        {
          "output_type": "execute_result",
          "data": {
            "text/plain": [
              "' As a new farmer, you should know that potato farming in South Africa has its own unique challenges and requires careful planning and consideration. Some important things to keep in mind include the types of potatoes you can grow, the role of potatoes in the food system, the stages of growth and development of potato plants, and the factors that affect the choice of cultivar to use. Additionally, it is important to be aware of the costs involved in potato production and to use sustainable practices to ensure a successful harvest. It may also be helpful to consult with experienced potato farmers or attend workshops or seminars on potato farming.'"
            ],
            "application/vnd.google.colaboratory.intrinsic+json": {
              "type": "string"
            }
          },
          "metadata": {},
          "execution_count": 74
        }
      ]
    },
    {
      "cell_type": "markdown",
      "source": [],
      "metadata": {
        "id": "KIRQespM-UcR"
      }
    },
    {
      "cell_type": "markdown",
      "source": [
        "## Semantic Character splitting for document chunking"
      ],
      "metadata": {
        "id": "BRvaBbNf-NSf"
      }
    },
    {
      "cell_type": "code",
      "source": [],
      "metadata": {
        "id": "x6-MbPLm-aGm"
      },
      "execution_count": null,
      "outputs": []
    },
    {
      "cell_type": "markdown",
      "source": [
        "# Persist the vector embeddings into a  vector database"
      ],
      "metadata": {
        "id": "cVr-WqbuFf6A"
      }
    },
    {
      "cell_type": "markdown",
      "source": [
        "## ChromaDB\n",
        "\n",
        "(install via pip : pip install langchain-chroma)"
      ],
      "metadata": {
        "id": "YWcgtmRqFnFK"
      }
    },
    {
      "cell_type": "markdown",
      "source": [
        "## Pinecone"
      ],
      "metadata": {
        "id": "tNqoJzOAFrbu"
      }
    },
    {
      "cell_type": "markdown",
      "source": [
        "### Initialize the pinecone vector db"
      ],
      "metadata": {
        "id": "tUlN8rgRvBoM"
      }
    },
    {
      "cell_type": "code",
      "source": [
        "from datetime import date\n",
        "\n",
        "for doc in chunked_docs:\n",
        "  if doc.metadata.get(\"last_printed_date\") is None:\n",
        "    # Get today's date in YYYY-MM-DD format\n",
        "    doc.metadata[\"last_printed_date\"] = date.today().strftime(\"%Y-%m-%d\")"
      ],
      "metadata": {
        "id": "gKipjtvjkdtS"
      },
      "execution_count": 80,
      "outputs": []
    },
    {
      "cell_type": "code",
      "source": [
        "from langchain_pinecone import PineconeVectorStore\n",
        "index_name = \"pdfs\"\n",
        "PineconeVectorStore.from_documents(chunked_docs,embeddings_model,index_name=index_name)\n"
      ],
      "metadata": {
        "id": "XzTDbH-ux55I",
        "colab": {
          "base_uri": "https://localhost:8080/"
        },
        "outputId": "d1a92dbc-e285-43d3-9d5a-395cb80f03ca",
        "collapsed": true
      },
      "execution_count": 81,
      "outputs": [
        {
          "output_type": "execute_result",
          "data": {
            "text/plain": [
              "<langchain_pinecone.vectorstores.PineconeVectorStore at 0x7cd866b538b0>"
            ]
          },
          "metadata": {},
          "execution_count": 81
        }
      ]
    },
    {
      "cell_type": "code",
      "source": [
        "pinecone_vectorstore = PineconeVectorStore(embedding=embeddings_model,index_name=index_name)"
      ],
      "metadata": {
        "id": "p70w8XVi21jk"
      },
      "execution_count": 84,
      "outputs": []
    },
    {
      "cell_type": "code",
      "source": [
        "pinecone_results = pinecone_vectorstore.similarity_search(query)\n",
        "chain.invoke({'input_documents': pinecone_results, 'question': query})['output_text']"
      ],
      "metadata": {
        "id": "R42OFCGvqebq",
        "colab": {
          "base_uri": "https://localhost:8080/",
          "height": 87
        },
        "outputId": "e46304ff-2e38-4258-a218-696640710f5e"
      },
      "execution_count": 85,
      "outputs": [
        {
          "output_type": "execute_result",
          "data": {
            "text/plain": [
              "' As a new farmer, you need to know about the different types of potatoes that can be grown, the stages of growth and development of the potato plant, the challenges that come with potato farming, and sustainable farming practices. It is also important to choose the right cultivar based on factors such as disease resistance, climate, and intended use of the crop. Additionally, understanding the market demand for potatoes and ensuring proper storage and transportation methods are crucial for success in potato farming.'"
            ],
            "application/vnd.google.colaboratory.intrinsic+json": {
              "type": "string"
            }
          },
          "metadata": {},
          "execution_count": 85
        }
      ]
    },
    {
      "cell_type": "code",
      "source": [
        "# Deleting the pinecone index\n",
        "from pinecone import Pinecone\n",
        "\n",
        "pc = Pinecone(api_key='8c3ac13f-780e-4b95-984e-90be091e60e7')\n",
        "pc.delete_index('chain')"
      ],
      "metadata": {
        "id": "yF3h1O_TCbb3"
      },
      "execution_count": null,
      "outputs": []
    },
    {
      "cell_type": "code",
      "source": [
        "pc"
      ],
      "metadata": {
        "colab": {
          "base_uri": "https://localhost:8080/"
        },
        "id": "pOy1ta4DCzLD",
        "outputId": "412df2a1-2665-4f58-f1f7-3578f861184e"
      },
      "execution_count": null,
      "outputs": [
        {
          "output_type": "execute_result",
          "data": {
            "text/plain": [
              "<pinecone.control.pinecone.Pinecone at 0x7cfd2d3aeec0>"
            ]
          },
          "metadata": {},
          "execution_count": 31
        }
      ]
    },
    {
      "cell_type": "markdown",
      "source": [
        "## Single store"
      ],
      "metadata": {
        "id": "zLa5m3B2Fvbc"
      }
    }
  ],
  "metadata": {
    "colab": {
      "provenance": [],
      "authorship_tag": "ABX9TyP849HIXUgtVhtNhJaDbENy",
      "include_colab_link": true
    },
    "kernelspec": {
      "display_name": "Python 3",
      "name": "python3"
    },
    "language_info": {
      "name": "python"
    }
  },
  "nbformat": 4,
  "nbformat_minor": 0
}